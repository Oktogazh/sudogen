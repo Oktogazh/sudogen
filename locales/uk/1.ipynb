{
 "cells": [
  {
   "cell_type": "markdown",
   "id": "f3e2b980-f665-47f4-a1d7-1ac2522d2a9b",
   "metadata": {},
   "source": [
    "## Download a Hunspell Dictionary\n",
    "Clicking on [this link](https://mozilla-l10n.github.io/firefox-dictionaries/complete.html) you will find a list of available and up-to-date dictionaries.\n",
    "Find the dictionary you want to train your model on. Once on the page of the dictionary you want to download, instead of clicking on \"add to Firefox\", right-click and select \"copy the link\". Then past the value to assign it to the variable `dictionary_url`.\n",
    "Think to also set the value of the variable `locale`, checkout the column \"Dictionary Locale\" of the table in the list of the dictionaries, as they might not be shaped the same way, for example, Welsh is \"cy_GB\" but British English is \"en-GB\".\n"
   ]
  },
  {
   "cell_type": "code",
   "execution_count": 1,
   "id": "790c270d-b2fa-425a-b4ce-7cb78a971d28",
   "metadata": {
    "scrolled": true
   },
   "outputs": [
    {
     "name": "stdout",
     "output_type": "stream",
     "text": [
      "Requirement already satisfied: requests in /Users/alan/miniconda3/lib/python3.12/site-packages (2.32.3)\n",
      "Requirement already satisfied: spylls in /Users/alan/miniconda3/lib/python3.12/site-packages (0.1.7)\n",
      "Requirement already satisfied: charset-normalizer<4,>=2 in /Users/alan/miniconda3/lib/python3.12/site-packages (from requests) (3.3.2)\n",
      "Requirement already satisfied: idna<4,>=2.5 in /Users/alan/miniconda3/lib/python3.12/site-packages (from requests) (3.7)\n",
      "Requirement already satisfied: urllib3<3,>=1.21.1 in /Users/alan/miniconda3/lib/python3.12/site-packages (from requests) (2.2.3)\n",
      "Requirement already satisfied: certifi>=2017.4.17 in /Users/alan/miniconda3/lib/python3.12/site-packages (from requests) (2024.8.30)\n",
      "\n",
      "\u001b[1m[\u001b[0m\u001b[34;49mnotice\u001b[0m\u001b[1;39;49m]\u001b[0m\u001b[39;49m A new release of pip is available: \u001b[0m\u001b[31;49m25.0.1\u001b[0m\u001b[39;49m -> \u001b[0m\u001b[32;49m25.2\u001b[0m\n",
      "\u001b[1m[\u001b[0m\u001b[34;49mnotice\u001b[0m\u001b[1;39;49m]\u001b[0m\u001b[39;49m To update, run: \u001b[0m\u001b[32;49mpip install --upgrade pip\u001b[0m\n",
      "Note: you may need to restart the kernel to use updated packages.\n"
     ]
    }
   ],
   "source": [
    "%pip install requests spylls"
   ]
  },
  {
   "cell_type": "code",
   "execution_count": null,
   "id": "f8e6f57f-1202-445a-a25a-3e952ec5c1f2",
   "metadata": {},
   "outputs": [],
   "source": []
  },
  {
   "cell_type": "code",
   "execution_count": 10,
   "id": "981ae96a-68b7-4071-9710-8d036e550583",
   "metadata": {},
   "outputs": [
    {
     "name": "stdout",
     "output_type": "stream",
     "text": [
      "uk-UA dictionary decompressed\n",
      "Folder cleaned successfully.\n",
      "Check out your dictionary in ./hunspell\n"
     ]
    }
   ],
   "source": [
    "import requests\n",
    "import zipfile\n",
    "import io\n",
    "import os\n",
    "import shutil\n",
    "\n",
    "# Replace this link\n",
    "# for Breton (be): https://addons.mozilla.org/firefox/downloads/file/4270474/difazier_an_drouizig-0.17resigned1.xpi\n",
    "# for Welsh (cy_GB): https://addons.mozilla.org/firefox/downloads/file/4270302/geiriadur_cymraeg-1.8.3resigned1.xpi\n",
    "# for English (en-GB): https://addons.mozilla.org/firefox/downloads/file/4270302/geiriadur_cymraeg-1.8.3resigned1.xpi\n",
    "# for Dutch (nl): https://addons.mozilla.org/firefox/downloads/file/3776797/woordenboek_nederlands-4.20.19.xpi\n",
    "dictionary_url = \"https://addons.mozilla.org/firefox/downloads/file/4481074/ukrainian_dictionary-6.6.1.xpi\"\n",
    "\n",
    "# Replace with the appropriate ISO-369 code\n",
    "locale = \"uk-UA\"\n",
    "\n",
    "if os.path.isdir(f\"./{locale}\"):\n",
    "    shutil.rmtree(f\"./{locale}\")\n",
    "\n",
    "# Download and extract dictionary\n",
    "response = requests.get(dictionary_url)\n",
    "with zipfile.ZipFile(io.BytesIO(response.content)) as z:\n",
    "    z.extractall(\"locales\")\n",
    "    print(f\"{locale} dictionary decompressed\")\n",
    "\n",
    "# standardize name of files\n",
    "for file in os.listdir(f\"./\"):\n",
    "    if file.endswith(\".dic\"):\n",
    "        os.rename(f\"./dictionaries/{file}\", f\"./{locale}.dic\")\n",
    "    elif file.endswith(\".aff\"):\n",
    "        os.rename(f\"./dictionaries/{file}\", f\"./{locale}.aff\")\n",
    "\n",
    "try:\n",
    "    files = os.listdir(\"locales\")\n",
    "    shutil.rmtree(\"locales/META-INF/\")\n",
    "    for file in files:\n",
    "        file_path = os.path.join(\"locales\", file)\n",
    "        if os.path.isfile(file_path):\n",
    "            os.remove(file_path)\n",
    "    print(\"Folder cleaned successfully.\")\n",
    "except OSError:\n",
    "    print(\"Error occurred while deleting files.\")\n",
    "\n",
    "os.rename(\"locales/dictionaries\", f\"./hunspell\")\n",
    "os.rmdir(\"locales\")\n",
    "print(\"Check out your dictionary in\", f\"./hunspell\")"
   ]
  },
  {
   "cell_type": "markdown",
   "id": "cce2469d-4511-4222-a634-4f2c0d1e7f20",
   "metadata": {},
   "source": [
    "Extract and filter the types from the dictionary."
   ]
  },
  {
   "cell_type": "code",
   "execution_count": 49,
   "id": "16c1b308-fa13-42b0-b631-13f0657a121b",
   "metadata": {},
   "outputs": [
    {
     "name": "stdout",
     "output_type": "stream",
     "text": [
      "281096\n",
      "{'к', 'т', 'ю', 'ґ', 'ж', 'а', 'й', 'ї', 'ч', 'і', 'є', 'с', 'у', 'щ', 'в', 'г', 'п', 'ш', \"'\", 'о', 'ь', 'р', 'е', 'и', 'х', 'л', '-', 'з', 'н', 'б', 'д', 'ц', 'м', 'ф', 'я'} 269430\n"
     ]
    }
   ],
   "source": [
    "import os\n",
    "import re\n",
    "\n",
    "# Function to extract lemmas from a .dic file\n",
    "def extract_lemmas(dic_path):\n",
    "    lemmas = []\n",
    "    chars_to_filter_out = {'4', 'Ч', 'Ц', 'Щ', 'Н', 'З', 'А', 'Ф', 'Х', 'У', 'С', 'Д', 'О', 'П', 'Ї', 'К', 'Ж', 'И', 'Ґ', 'І', 'М', 'Б', 'Л', '3', 'Т', 'Ю', 'Й', 'Є', 'Ш', '=', 'Е', 'Я', 'Г', 'В', 'Р'}\n",
    "    with open(dic_path, 'r', encoding='utf-8') as file:\n",
    "        for line in file:\n",
    "            # Each line in the .dic file contains a word followed by its affix flags\n",
    "            # We only need the word part, which is before the '/' character\n",
    "            word = line.split('/')[0]\n",
    "            if word[-1] == '\\n':\n",
    "                word = word[:-1]\n",
    "            if not any(char in word for char in chars_to_filter_out) and word[-1] != \"-\" and word[0] != \"-\":\n",
    "                lemmas.append(word)\n",
    "    print(len(lemmas))\n",
    "    return lemmas\n",
    "\n",
    "# Path to the dictionary files\n",
    "dic_path = f\"hunspell/{locale}.dic\"\n",
    "\n",
    "# Extract lemmas\n",
    "lemmas = set(extract_lemmas(dic_path))\n",
    "\n",
    "# Print the first 10 lemmas as a sample\n",
    "chars = {char for string in lemmas for char in string}\n",
    "types = list(lemmas)\n",
    "types.sort()\n",
    "\n",
    "print(chars, len(types))"
   ]
  },
  {
   "cell_type": "markdown",
   "id": "9623ad6e-8374-4bea-aae2-4696f7dbcdcc",
   "metadata": {},
   "source": [
    "Save the types in a new file"
   ]
  },
  {
   "cell_type": "code",
   "execution_count": 48,
   "id": "7ae44f2c-897e-4cb6-a9ec-ae59c9908d5f",
   "metadata": {},
   "outputs": [
    {
     "name": "stdout",
     "output_type": "stream",
     "text": [
      "269430 items extracted and saved to lemmae.json\n"
     ]
    }
   ],
   "source": [
    "# Dump the lemmas to a json file\n",
    "import json\n",
    "\n",
    "# Define the output file path\n",
    "output_file_path = f\"lemmae.json\"\n",
    "\n",
    "# Write the lemmas list to the JSON file\n",
    "with open(output_file_path, 'w', encoding='utf-8') as outfile:\n",
    "    json.dump(types, outfile, ensure_ascii=False, indent=2)\n",
    "\n",
    "print(f\"{len(types)} items extracted and saved to {output_file_path}\")"
   ]
  },
  {
   "cell_type": "code",
   "execution_count": null,
   "id": "3b611a16-a9a2-4e2f-a53e-16a7abed788e",
   "metadata": {},
   "outputs": [],
   "source": []
  }
 ],
 "metadata": {
  "kernelspec": {
   "display_name": "Python 3 (ipykernel)",
   "language": "python",
   "name": "python3"
  },
  "language_info": {
   "codemirror_mode": {
    "name": "ipython",
    "version": 3
   },
   "file_extension": ".py",
   "mimetype": "text/x-python",
   "name": "python",
   "nbconvert_exporter": "python",
   "pygments_lexer": "ipython3",
   "version": "3.12.8"
  }
 },
 "nbformat": 4,
 "nbformat_minor": 5
}
