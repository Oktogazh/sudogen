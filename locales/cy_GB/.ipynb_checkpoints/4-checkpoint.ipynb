{
 "cells": [
  {
   "cell_type": "code",
   "execution_count": 5,
   "id": "f9be2e0a-9494-4c15-b4b9-6e298da6facf",
   "metadata": {},
   "outputs": [
    {
     "name": "stdout",
     "output_type": "stream",
     "text": [
      "['yn', 'y', 'i', 'o', 'a']\n"
     ]
    }
   ],
   "source": [
    "import csv\n",
    "\n",
    "with open(\"cy-freq.csv\", encoding=\"utf-8\") as f:\n",
    "    reader = csv.reader(f, delimiter=\"\\t\")\n",
    "    freq = [row[0] for (row, i) in reader if row]\n",
    "\n",
    "print(freq[:5])  # preview\n"
   ]
  },
  {
   "cell_type": "code",
   "execution_count": 7,
   "id": "3636b40f-f372-4e15-a747-c2f3a9f96924",
   "metadata": {},
   "outputs": [
    {
     "name": "stdout",
     "output_type": "stream",
     "text": [
      "[{'w': \"'chi\", 'r': 200}, {'w': \"'dag\", 'r': 200}, {'w': \"'ddchi\", 'r': 200}, {'w': \"'sti\", 'r': 200}, {'w': 'aaron', 'r': 200}, {'w': 'ab', 'r': 200}, {'w': 'abad', 'r': 200}, {'w': 'abadaeth', 'r': 200}, {'w': 'abades', 'r': 200}, {'w': 'aball', 'r': 200}]\n"
     ]
    }
   ],
   "source": [
    "import requests\n",
    "from bs4 import BeautifulSoup\n",
    "import time\n",
    "import json\n",
    "from typing import Dict, Tuple, Optional\n",
    "from tqdm import tqdm\n",
    "from concurrent.futures import ThreadPoolExecutor, as_completed\n",
    "import threading\n",
    "from requests.adapters import HTTPAdapter\n",
    "from urllib3.util.retry import Retry\n",
    "\n",
    "# Define the file path\n",
    "file_path = f\"items.json\"\n",
    "\n",
    "# Write the lemmas list to the JSON file\n",
    "try:\n",
    "    with open(file_path) as f:\n",
    "        content = f.read()\n",
    "        if not content.strip():\n",
    "            raise ValueError(\"The JSON file is empty.\")\n",
    "        items = json.loads(content)\n",
    "except FileNotFoundError:\n",
    "    print(f\"Error: File not found at {file_path}\")\n",
    "    items = []\n",
    "except ValueError as e:\n",
    "    print(f\"Error: {e}\")\n",
    "    items = []\n",
    "except json.JSONDecodeError:\n",
    "    print(f\"Error: Invalid JSON content in {file_path}\")\n",
    "    items = []\n",
    "\n",
    "lemmae = items[\"keys\"]\n",
    "print(items[\"keys\"][:10])"
   ]
  },
  {
   "cell_type": "code",
   "execution_count": null,
   "id": "5ac86fd7-4e31-4613-9e79-0e3bd7db7ba1",
   "metadata": {},
   "outputs": [],
   "source": [
    "\n",
    "        "
   ]
  },
  {
   "cell_type": "code",
   "execution_count": 9,
   "id": "e1d44c4a-43cc-4343-9d67-8e5d5afb874d",
   "metadata": {},
   "outputs": [
    {
     "name": "stderr",
     "output_type": "stream",
     "text": [
      "Processing items: 100%|█| 10722/10722 [00:00<00:00, 33225.81it/s\n",
      "Processing items: 100%|█| 10000/10000 [00:00<00:00, 658064.23it/\n"
     ]
    }
   ],
   "source": [
    "import random\n",
    "from math import floor\n",
    "\n",
    "new_keys = []\n",
    "for item in tqdm(items[\"keys\"], desc=\"Processing items\"):\n",
    "    if item[\"w\"] in freq:\n",
    "        val = floor(freq.index(item[\"w\"])/2)\n",
    "        val -= val%5\n",
    "        new_keys.append(\n",
    "            {\"w\": item[\"w\"], \"r\": val}\n",
    "        )\n",
    "    else:\n",
    "        val = floor(random.randint(950, 2000))\n",
    "        val -= val%5\n",
    "        new_keys.append(\n",
    "            {\"w\": item[\"w\"], \"r\": val}\n",
    "        )\n",
    "    \n",
    "\n",
    "# order the items by rating\n",
    "new_keys.sort(key=lambda x: x[\"r\"])\n",
    "items[\"keys\"] = new_keys\n",
    "\n",
    "\n",
    "new_dis = []\n",
    "for item in tqdm(items[\"distractors\"], desc=\"Processing items\"):\n",
    "    val = floor(random.randint(0, 2000))\n",
    "    val -= val%5\n",
    "    new_dis.append(\n",
    "        {\"w\": item[\"w\"], \"r\": val}\n",
    "    )\n",
    "new_dis.sort(key=lambda x: x[\"r\"])\n",
    "items[\"distractors\"] = new_dis\n",
    "\n",
    "# Write the updated items back to the JSON file\n",
    "with open(file_path, \"w\") as f:\n",
    "    json.dump(items, f, indent=0, ensure_ascii=False)"
   ]
  },
  {
   "cell_type": "code",
   "execution_count": null,
   "id": "256a157d-64a8-4282-8f1b-8b7ad1b0e4e5",
   "metadata": {},
   "outputs": [],
   "source": []
  }
 ],
 "metadata": {
  "kernelspec": {
   "display_name": "Python 3 (ipykernel)",
   "language": "python",
   "name": "python3"
  },
  "language_info": {
   "codemirror_mode": {
    "name": "ipython",
    "version": 3
   },
   "file_extension": ".py",
   "mimetype": "text/x-python",
   "name": "python",
   "nbconvert_exporter": "python",
   "pygments_lexer": "ipython3",
   "version": "3.12.8"
  }
 },
 "nbformat": 4,
 "nbformat_minor": 5
}
