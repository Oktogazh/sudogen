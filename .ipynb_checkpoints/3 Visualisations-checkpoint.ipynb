{
 "cells": [
  {
   "cell_type": "markdown",
   "id": "bd4bd97b-e7d9-4063-9130-8d4a3f0088f3",
   "metadata": {},
   "source": [
    "# Understanding the network through visualizations\n",
    "During the training process, our models learn two things that allow it to generate the pseudo words. First, it creates a relevant embedded representation of the \"vocabulary\", the language's characters. Second, by leveraging these representations, it can generate an abstraction, a \"memory\", of the previously seen characters to create patterns which we ultimately analyze as syllables and plausible words. In this section, we will create visualizations of these two phenomenon to show that deep learning is not an absolute black box.\n",
    "\n",
    "## 1 How characters relate to each other\n",
    "The first layer of how model is an embedding layer, it contains the key to turn a character index into arrays of numbers, which is called embedding. We also need our tokenizer, which is a simple dictionary mapping the characters of our training dataset to their aforementioned indices."
   ]
  },
  {
   "cell_type": "code",
   "execution_count": 124,
   "id": "940450de-4382-49cf-878a-bfbdab146cf5",
   "metadata": {},
   "outputs": [
    {
     "name": "stdout",
     "output_type": "stream",
     "text": [
      "[[-15.902132     6.670161    11.273422    14.89657   ]\n",
      " [  1.0068086    1.9431105   -1.3776059    0.6839143 ]\n",
      " [  1.7012677   -1.2399778    1.1160897    2.088244  ]\n",
      " [ -1.3483042   -1.2167956    0.03574739   2.437032  ]\n",
      " [  1.5413256   -2.0062807    0.44377208  -0.95148903]\n",
      " [  0.08625892   1.0935781    0.9979747   -1.0987356 ]\n",
      " [  3.4167118   -1.566905     0.5275117    2.2893918 ]\n",
      " [  1.9804773   -0.49524686  -0.5244674    0.40125948]\n",
      " [  2.1585763   -2.1670105    0.40419567  -0.19569464]\n",
      " [ -0.73627883   1.494374    -1.7228925   -0.26137075]\n",
      " [ -0.6288716    0.99386424  -1.7217155    3.7553582 ]\n",
      " [  3.7449398   -1.5250738   -0.24596752  -1.1093782 ]\n",
      " [  0.46885014  -3.4760604    0.30994034   0.8260559 ]\n",
      " [  0.44931948  -1.887174     1.6343986    1.0263537 ]\n",
      " [ -0.34964025  -0.59956765  -1.929508     1.218788  ]\n",
      " [ -0.5577897    0.1739808   -0.6713699   -2.0965972 ]\n",
      " [  0.7204599   -0.42141357   0.7031446    1.9503556 ]\n",
      " [-14.630714    -0.2522387   -1.9123989   13.893532  ]\n",
      " [ -0.63911563  -2.3085835    0.54228085  -0.05223902]\n",
      " [  0.06929278   0.45294836   2.4012005    0.10254031]\n",
      " [  0.86655194  -0.08087454   0.17146364   0.4352225 ]\n",
      " [ -0.9075364    0.95842975  -1.0064474   -1.0668985 ]\n",
      " [  4.5208945    2.6180944   -2.424517     4.5226083 ]\n",
      " [  1.760159    -1.0592396    0.45011598   1.0721015 ]\n",
      " [ -0.5147655   -4.764963    -1.5672213   -0.42438662]\n",
      " [  2.6347165    0.7827826    0.18914223  -2.5682387 ]\n",
      " [  3.2435012    0.22243883  -2.137826     1.738898  ]]\n"
     ]
    }
   ],
   "source": [
    "import torch.nn as nn\n",
    "\n",
    "# 0: redeclare the LSTMModel class\n",
    "class LSTMModel(nn.Module):\n",
    "    def __init__(self, vocab_size, embedding_dim, hidden_dim, layers_number, char_to_idx, idx_to_char):\n",
    "        super().__init__()\n",
    "        self.char_to_idx = char_to_idx\n",
    "        self.idx_to_char = idx_to_char\n",
    "        self.embedding = nn.Embedding(vocab_size, embedding_dim)\n",
    "        self.lstm = nn.LSTM(embedding_dim, hidden_dim, layers_number, batch_first=True)\n",
    "        self.fc = nn.Linear(hidden_dim, vocab_size)\n",
    "        \n",
    "    def forward(self, x, hidden):\n",
    "        x = self.embedding(x)\n",
    "        out, hidden = self.lstm(x, hidden)\n",
    "        out = self.fc(out)\n",
    "        return out, hidden\n",
    "\n",
    "    def init_hidden(self, batch_size=1):\n",
    "        return (torch.zeros(layers_number, batch_size , hidden_dim),\n",
    "                torch.zeros(layers_number, batch_size , hidden_dim))\n",
    "\n",
    "# 1: load the model from the previous chapter\n",
    "locale = \"en-GB\" # Change this variable if necessary\n",
    "model = torch.load(f'locales/{locale}/lstm_model-{locale}.pth')\n",
    "\n",
    "# 2: extract the embedding layer and its associated characters\n",
    "chars = [n if n != \"\\n\" else \"\\\\n\" for n in model.idx_to_char.values()]\n",
    "embedding = model.embedding.weight.numpy()\n",
    "print(embedding)"
   ]
  },
  {
   "cell_type": "markdown",
   "id": "2cc20c56-44e9-41f7-bea8-3deb93a54789",
   "metadata": {},
   "source": [
    "Now we will use the library scikit-learn's T-distributed Stochastic Neighbor Embedding (t-SNE) to do reduce the dimensionalities of the vectorial representation of the embedded characters. In our original model, the characters are represented in a 16 dimensional space, but to show how close the characters are associated to one another during the training process, we only need two dimensions."
   ]
  },
  {
   "cell_type": "code",
   "execution_count": 53,
   "id": "fabfd3f3-62f8-4a1e-81ac-d014c9ac8cfd",
   "metadata": {},
   "outputs": [
    {
     "name": "stdout",
     "output_type": "stream",
     "text": [
      "Requirement already satisfied: scikit-learn in /Users/alan/miniconda3/lib/python3.12/site-packages (1.6.1)\n",
      "Requirement already satisfied: numpy in /Users/alan/miniconda3/lib/python3.12/site-packages (1.26.4)\n",
      "Requirement already satisfied: seaborn in /Users/alan/miniconda3/lib/python3.12/site-packages (0.13.2)\n",
      "Requirement already satisfied: matplotlib in /Users/alan/miniconda3/lib/python3.12/site-packages (3.10.1)\n",
      "Requirement already satisfied: pandas in /Users/alan/miniconda3/lib/python3.12/site-packages (2.2.3)\n",
      "Requirement already satisfied: scipy>=1.6.0 in /Users/alan/miniconda3/lib/python3.12/site-packages (from scikit-learn) (1.13.1)\n",
      "Requirement already satisfied: joblib>=1.2.0 in /Users/alan/miniconda3/lib/python3.12/site-packages (from scikit-learn) (1.4.2)\n",
      "Requirement already satisfied: threadpoolctl>=3.1.0 in /Users/alan/miniconda3/lib/python3.12/site-packages (from scikit-learn) (3.6.0)\n",
      "Requirement already satisfied: contourpy>=1.0.1 in /Users/alan/miniconda3/lib/python3.12/site-packages (from matplotlib) (1.3.1)\n",
      "Requirement already satisfied: cycler>=0.10 in /Users/alan/miniconda3/lib/python3.12/site-packages (from matplotlib) (0.12.1)\n",
      "Requirement already satisfied: fonttools>=4.22.0 in /Users/alan/miniconda3/lib/python3.12/site-packages (from matplotlib) (4.56.0)\n",
      "Requirement already satisfied: kiwisolver>=1.3.1 in /Users/alan/miniconda3/lib/python3.12/site-packages (from matplotlib) (1.4.8)\n",
      "Requirement already satisfied: packaging>=20.0 in /Users/alan/miniconda3/lib/python3.12/site-packages (from matplotlib) (24.1)\n",
      "Requirement already satisfied: pillow>=8 in /Users/alan/miniconda3/lib/python3.12/site-packages (from matplotlib) (11.1.0)\n",
      "Requirement already satisfied: pyparsing>=2.3.1 in /Users/alan/miniconda3/lib/python3.12/site-packages (from matplotlib) (3.2.1)\n",
      "Requirement already satisfied: python-dateutil>=2.7 in /Users/alan/miniconda3/lib/python3.12/site-packages (from matplotlib) (2.9.0.post0)\n",
      "Requirement already satisfied: pytz>=2020.1 in /Users/alan/miniconda3/lib/python3.12/site-packages (from pandas) (2025.1)\n",
      "Requirement already satisfied: tzdata>=2022.7 in /Users/alan/miniconda3/lib/python3.12/site-packages (from pandas) (2025.2)\n",
      "Requirement already satisfied: six>=1.5 in /Users/alan/miniconda3/lib/python3.12/site-packages (from python-dateutil>=2.7->matplotlib) (1.17.0)\n",
      "Note: you may need to restart the kernel to use updated packages.\n"
     ]
    }
   ],
   "source": [
    "%pip install scikit-learn numpy seaborn matplotlib pandas"
   ]
  },
  {
   "cell_type": "code",
   "execution_count": 161,
   "id": "e9ec8878-8988-40ea-b199-c85f8e3fd73e",
   "metadata": {},
   "outputs": [
    {
     "data": {
      "image/png": "[encoded data removed]",
      "text/plain": [
       "<Figure size 500x500 with 1 Axes>"
      ]
     },
     "metadata": {},
     "output_type": "display_data"
    }
   ],
   "source": [
    "import matplotlib.pyplot as plt\n",
    "import numpy as np\n",
    "import seaborn as sns\n",
    "import pandas as pd\n",
    "from sklearn.manifold import TSNE\n",
    "from sklearn.decomposition import PCA\n",
    "\n",
    "X = np.array(embedding)\n",
    "reduced_embedding = PCA(n_components=2).fit_transform(TSNE(n_components=2, perplexity=10).fit_transform(X))\n",
    "\n",
    "df = pd.DataFrame(reduced_embedding, columns=[\"x\", \"y\"])\n",
    "df[\"chars\"] = chars\n",
    "\n",
    "plt.figure(figsize=(5, 5))\n",
    "sns.scatterplot(x=\"x\", y=\"y\", data=df)\n",
    "\n",
    "for i in range(len(chars)):\n",
    "    plt.annotate(df[\"chars\"][i], (df[\"x\"][i]+1, df[\"y\"][i]+1))\n",
    "\n",
    "plt.show()\n",
    "# 3 use scikit learn to do TSNE dimensionality reduction\n",
    "# 4 train a Ukrainian model and compare the results"
   ]
  },
  {
   "cell_type": "markdown",
   "id": "f8c0c350-259c-413f-8313-6bed54cafbac",
   "metadata": {},
   "source": [
    "## 2 Inspecting the memory of an LSTM cell\n",
    "This section is inspired by this [Andrej Karpathy's article](https://karpathy.github.io/2015/05/21/rnn-effectiveness/)"
   ]
  },
  {
   "cell_type": "code",
   "execution_count": null,
   "id": "4b6825ce-eb39-4b16-8870-0416140c03ba",
   "metadata": {},
   "outputs": [],
   "source": [
    "# 1 create a function that generated a word\n",
    "# 2 have the function return a matrix of the successive hidden states along with the word\n",
    "# 3 create a second function that builds a heatmap for the first index of the matrix\n",
    "# 4 loop the function to optain a heatmap for all indices of the matrix"
   ]
  },
  {
   "cell_type": "markdown",
   "id": "8f7a362c-d0b1-4257-a747-22b151d88f7e",
   "metadata": {},
   "source": []
  }
 ],
 "metadata": {
  "kernelspec": {
   "display_name": "Python 3 (ipykernel)",
   "language": "python",
   "name": "python3"
  },
  "language_info": {
   "codemirror_mode": {
    "name": "ipython",
    "version": 3
   },
   "file_extension": ".py",
   "mimetype": "text/x-python",
   "name": "python",
   "nbconvert_exporter": "python",
   "pygments_lexer": "ipython3",
   "version": "3.12.8"
  }
 },
 "nbformat": 4,
 "nbformat_minor": 5
}
