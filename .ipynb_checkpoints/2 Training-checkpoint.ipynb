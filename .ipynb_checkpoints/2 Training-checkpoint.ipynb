{
 "cells": [
  {
   "cell_type": "markdown",
   "id": "bd4bd97b-e7d9-4063-9130-8d4a3f0088f3",
   "metadata": {},
   "source": [
    "# 2 Training the model\n",
    "Before starting, we will load a list of lemmas from the previous part."
   ]
  },
  {
   "cell_type": "code",
   "execution_count": 10,
   "id": "1d93ce1f-55f6-49e1-b0a0-f9d4d0ffe5f7",
   "metadata": {},
   "outputs": [
    {
     "name": "stdout",
     "output_type": "stream",
     "text": [
      "62183 items loaded from locales/br/lemmas.json\n"
     ]
    }
   ],
   "source": [
    "# Dump the lemmas to a json file\n",
    "import json\n",
    "import random\n",
    "\n",
    "# Change this variable to load another list of lemmas\n",
    "locale = \"br\"\n",
    "\n",
    "# Define the file path\n",
    "file_path = f\"locales/{locale}/lemmas.json\"\n",
    "\n",
    "# Write the lemmas list to the JSON file\n",
    "try:\n",
    "    with open(file_path) as f:\n",
    "        content = f.read()\n",
    "        if not content.strip():\n",
    "            raise ValueError(\"The JSON file is empty.\")\n",
    "        lemmas = json.loads(content)\n",
    "except FileNotFoundError:\n",
    "    print(f\"Error: File not found at {file_path}\")\n",
    "    lemmas = []\n",
    "except ValueError as e:\n",
    "    print(f\"Error: {e}\")\n",
    "    lemmas = []\n",
    "except json.JSONDecodeError:\n",
    "    print(f\"Error: Invalid JSON content in {file_path}\")\n",
    "    lemmas = []\n",
    "\n",
    "print(f\"{len(lemmas)} items loaded from {file_path}\")"
   ]
  },
  {
   "cell_type": "markdown",
   "id": "cd9e85c7",
   "metadata": {},
   "source": [
    "## 2.1 Data Preparation\n",
    "Now we can start tokenizing our data. In the context of a character-level language model, tokenizing means to turn the words that us human can read into sequences of numbers that the model can interpret."
   ]
  },
  {
   "cell_type": "code",
   "execution_count": 11,
   "id": "841ce465-aad1-4b8b-b1c7-30bbbe94f8a9",
   "metadata": {},
   "outputs": [
    {
     "name": "stdout",
     "output_type": "stream",
     "text": [
      "Requirement already satisfied: numpy<2 in /Users/alan/miniconda3/lib/python3.12/site-packages (1.26.4)\n",
      "Requirement already satisfied: torch in /Users/alan/miniconda3/lib/python3.12/site-packages (2.2.2)\n",
      "Requirement already satisfied: filelock in /Users/alan/miniconda3/lib/python3.12/site-packages (from torch) (3.18.0)\n",
      "Requirement already satisfied: typing-extensions>=4.8.0 in /Users/alan/miniconda3/lib/python3.12/site-packages (from torch) (4.12.2)\n",
      "Requirement already satisfied: sympy in /Users/alan/miniconda3/lib/python3.12/site-packages (from torch) (1.13.3)\n",
      "Requirement already satisfied: networkx in /Users/alan/miniconda3/lib/python3.12/site-packages (from torch) (3.4.2)\n",
      "Requirement already satisfied: jinja2 in /Users/alan/miniconda3/lib/python3.12/site-packages (from torch) (3.1.6)\n",
      "Requirement already satisfied: fsspec in /Users/alan/miniconda3/lib/python3.12/site-packages (from torch) (2025.3.1)\n",
      "Requirement already satisfied: MarkupSafe>=2.0 in /Users/alan/miniconda3/lib/python3.12/site-packages (from jinja2->torch) (3.0.2)\n",
      "Requirement already satisfied: mpmath<1.4,>=1.1.0 in /Users/alan/miniconda3/lib/python3.12/site-packages (from sympy->torch) (1.3.0)\n",
      "\n",
      "\u001b[1m[\u001b[0m\u001b[34;49mnotice\u001b[0m\u001b[1;39;49m]\u001b[0m\u001b[39;49m A new release of pip is available: \u001b[0m\u001b[31;49m25.0.1\u001b[0m\u001b[39;49m -> \u001b[0m\u001b[32;49m25.1.1\u001b[0m\n",
      "\u001b[1m[\u001b[0m\u001b[34;49mnotice\u001b[0m\u001b[1;39;49m]\u001b[0m\u001b[39;49m To update, run: \u001b[0m\u001b[32;49mpip install --upgrade pip\u001b[0m\n",
      "Note: you may need to restart the kernel to use updated packages.\n"
     ]
    }
   ],
   "source": [
    "# ensure you have the necessary library\n",
    "%pip install 'numpy<2', torch"
   ]
  },
  {
   "cell_type": "code",
   "execution_count": 12,
   "id": "722c32a6-5932-4547-93c7-56ac01515ed9",
   "metadata": {},
   "outputs": [],
   "source": [
    "import torch\n",
    "from torch.utils.data import Dataset, DataLoader\n",
    "\n",
    "class CharDataset(Dataset):\n",
    "    def __init__(self, sequences, vocab, separator_tag=None):\n",
    "        self.sequences = sequences\n",
    "        self.vocab = vocab\n",
    "        self.char_to_idx = {char: idx for idx, char in enumerate(vocab)}\n",
    "        self.idx_to_char = {idx: char for idx, char in enumerate(vocab)}\n",
    "        if separator_tag != None:\n",
    "            self.sep_tag = separator_tag\n",
    "\n",
    "    def __len__(self):\n",
    "        return len(self.sequences)\n",
    "\n",
    "    def __getitem__(self, idx):\n",
    "        sequence = self.sequences[idx]\n",
    "        input_seq = [self.char_to_idx[char] for char in sequence[:-1]]\n",
    "        target_seq = [self.char_to_idx[char] for char in sequence[1:]]\n",
    "        return torch.tensor(input_seq), torch.tensor(target_seq)\n",
    "\n",
    "# In this case \"vocab\" is literally the latin alphabet\n",
    "vocab = sorted(set(\"\".join(lemmas)))\n",
    "dataset = CharDataset(lemmas, vocab)"
   ]
  },
  {
   "cell_type": "markdown",
   "id": "f8c0c350-259c-413f-8313-6bed54cafbac",
   "metadata": {},
   "source": [
    "This loaded the lemmas in a dataset in a format that torch can understand. Each word is turned in a pair of sequences, an input (missing the last character) and a target (missing the first character). In this case, because the input sequences start with an added \"start of sequence\" special token, the target sequence is the full word. In plain English, this means that we also want our model to learn what is the most likely first letter of a word, not only the next most likely character based on the beginning of the sequence. \n",
    "\n",
    "All the characters are converted to numbers, each being the index of the input neuron that will be activated during the training. The system has as many inputs neurons, or input dimensions, as there are items in the vocabulary (by vocabulary, we mean alphabet). This is a reasonable number that allows the model to train on any computer, but imagine the size of a model when the vocabulary contains hundred of thousands of words (from different languages), and that each one needs its own input neuron... \n",
    "\n",
    "Run the following block to see how your data will be processed by the neural network."
   ]
  },
  {
   "cell_type": "code",
   "execution_count": 13,
   "id": "baf79685-949a-4e88-8d1b-7be77290ed95",
   "metadata": {},
   "outputs": [
    {
     "name": "stdout",
     "output_type": "stream",
     "text": [
      "== antierad == \n",
      "becomes the sequences:\n",
      "tensor([ 3, 16, 21, 11,  7, 19,  3]) (input)\n",
      "and tensor([16, 21, 11,  7, 19,  3,  6]) (target)\n"
     ]
    }
   ],
   "source": [
    "from random import randrange\n",
    "n = randrange(len(lemmas))\n",
    "\n",
    "print(f\"== {lemmas[n]} == \\nbecomes the sequences:\\n{dataset[n][0]} (input)\\nand {dataset[n][1]} (target)\")"
   ]
  },
  {
   "cell_type": "markdown",
   "id": "9f35c012-ccf3-47dc-9bb7-2724b765747d",
   "metadata": {},
   "source": [
    "### 1.2 Grouping the sequences to learn\n",
    "For convenience during both training and generation, we'll group the words in lists of a percent of the total number of words and separate each word by a special newline character \"\\n\". We also extract five sequences for validation."
   ]
  },
  {
   "cell_type": "code",
   "execution_count": 14,
   "id": "14dcabc6-40f6-4ed5-abdc-36b3c041c33d",
   "metadata": {},
   "outputs": [],
   "source": [
    "import random\n",
    "\n",
    "random.shuffle(lemmas)\n",
    "percent_len = len(lemmas)//100\n",
    "sequences = [\"\\n\" + \"\\n\".join(lemmas[(n-1)*percent_len:n*percent_len])+ \"\\n\" for n in range(1, 101)]\n",
    "seq_training = sequences[:95]\n",
    "seq_validating = sequences[95:]\n",
    "vocab = sorted(set(\"\".join(sequences)))\n",
    "dataset = CharDataset(seq_training, vocab, \"\\n\")\n",
    "dataset_eval = CharDataset(seq_validating, vocab, \"\\n\")\n",
    "dataloader = DataLoader(dataset, shuffle=True)\n",
    "dataloader_eval = DataLoader(dataset_eval, shuffle=True)"
   ]
  },
  {
   "cell_type": "code",
   "execution_count": 15,
   "id": "a6f89668-c0f1-49b8-93d6-0f8ca77d6386",
   "metadata": {},
   "outputs": [
    {
     "data": {
      "text/plain": [
       "['zan',\n",
       " 'zerasin',\n",
       " 'zeerezh',\n",
       " 'zingenn',\n",
       " 'zeañ',\n",
       " 'zoursilhañ',\n",
       " 'zefoyan',\n",
       " 'zo',\n",
       " 'zeadur',\n",
       " 'zeal',\n",
       " 'zrodiñ',\n",
       " 'zel',\n",
       " 'zoken',\n",
       " 'zou',\n",
       " 'zero',\n",
       " 'zoursilher',\n",
       " 'zebu',\n",
       " 'zrodad',\n",
       " 'zamid',\n",
       " 'zer',\n",
       " 'zedacheg',\n",
       " 'zouav',\n",
       " 'zomuiken',\n",
       " 'zink',\n",
       " \"zokenoc'h\",\n",
       " 'zoursilh']"
      ]
     },
     "execution_count": 15,
     "metadata": {},
     "output_type": "execute_result"
    }
   ],
   "source": [
    "seq_validating\n",
    "\n",
    "[w for w in ''.join(seq_training).split(\"\\n\") if len(w) and \"z\" == w[0]]"
   ]
  },
  {
   "cell_type": "markdown",
   "id": "2247b706-7e46-4bed-962d-7f9ef9cbe1e9",
   "metadata": {},
   "source": [
    "## 2.2 Defining the Model\n",
    "\n",
    "In this part we design our network. We first initialize a PyTorch [module](https://pytorch.org/docs/stable/generated/torch.nn.Module.html#torch.nn.Module) by defining the different parts of the network: an embedding layer to turn each character in a 16 dimensional vector (an array of 16 numbers), one LSTM cell (`layers_number`) that will do the actual pattern recognition and prediction work and the linear fully connected (self.fc) layer converts these predictions in a simple discrete value, i.e. the index of the next character.\n",
    "\n",
    "The forward function defines the order in which the input data will go through the network. It outputs the prediction and the updated hidden layer of the LSTM cells (these hidden states are updated even during the forward pass). And finally we have a function initializing the these hidden states with empty tensors of the good shape."
   ]
  },
  {
   "cell_type": "code",
   "execution_count": 16,
   "id": "0631f9e1-1050-4c1c-914d-066aec50550e",
   "metadata": {},
   "outputs": [
    {
     "name": "stdout",
     "output_type": "stream",
     "text": [
      "Model ready! Total number of parameters: 343210\n"
     ]
    }
   ],
   "source": [
    "import torch.nn as nn\n",
    "\n",
    "class LSTMModel(nn.Module):\n",
    "    def __init__(self, embedding_dim=4, hidden_dim=16, layers_number=1, char_to_idx={}, idx_to_char={}):\n",
    "        super().__init__()\n",
    "        vocab_size = len(char_to_idx.keys())\n",
    "        self.char_to_idx = char_to_idx\n",
    "        self.idx_to_char = idx_to_char\n",
    "        self.embedding = nn.Embedding(vocab_size, embedding_dim)\n",
    "        self.lstm = nn.LSTM(embedding_dim, hidden_dim, layers_number, batch_first=True)\n",
    "        self.fc = nn.Linear(hidden_dim, vocab_size)\n",
    "\n",
    "    # The forward function is the one getting called everytime\n",
    "    # the model created by an instance of this class is called\n",
    "    # model(x, hidden) == model.forward(x, hidden)\n",
    "    def forward(self, x, hidden):\n",
    "        x = self.embedding(x)\n",
    "        out, hidden = self.lstm(x, hidden)\n",
    "        out = self.fc(out)\n",
    "        return out, hidden\n",
    "\n",
    "    def init_hidden(self, batch_size=1):\n",
    "        return (torch.zeros(layers_number, batch_size , hidden_dim),\n",
    "                torch.zeros(layers_number, batch_size , hidden_dim))\n",
    "\n",
    "# Example usage\n",
    "embedding_dim = 64\n",
    "hidden_dim = 256\n",
    "layers_number = 1\n",
    "char_to_idx = dataset.char_to_idx\n",
    "idx_to_char = dataset.idx_to_char\n",
    "\n",
    "model = LSTMModel(embedding_dim, hidden_dim, layers_number, char_to_idx, idx_to_char)\n",
    "\n",
    "total_params = sum(p.numel() for p in model.parameters())\n",
    "print(f'Model ready! Total number of parameters: {total_params}')"
   ]
  },
  {
   "cell_type": "markdown",
   "id": "c0e3fadd-7c89-4f46-8727-f58a5f735522",
   "metadata": {},
   "source": [
    "# 2.3 Training\n",
    "After defining a couple of hyperparameters, we are ready to train our model."
   ]
  },
  {
   "cell_type": "code",
   "execution_count": 20,
   "id": "fe522c6a-bc95-49b8-b92c-a46d83f1b0cd",
   "metadata": {},
   "outputs": [
    {
     "name": "stderr",
     "output_type": "stream",
     "text": [
      " 20%|████▌                  | 1/5 [00:20<01:22, 20.57s/it]"
     ]
    },
    {
     "name": "stdout",
     "output_type": "stream",
     "text": [
      "Epoch [1/5], Training Loss: 1.7801, Validation Loss: 1.6473\n"
     ]
    },
    {
     "name": "stderr",
     "output_type": "stream",
     "text": [
      " 40%|█████████▏             | 2/5 [00:40<01:00, 20.18s/it]"
     ]
    },
    {
     "name": "stdout",
     "output_type": "stream",
     "text": [
      "Epoch [2/5], Training Loss: 1.7773, Validation Loss: 1.6552\n"
     ]
    },
    {
     "name": "stderr",
     "output_type": "stream",
     "text": [
      " 60%|█████████████▊         | 3/5 [00:58<00:38, 19.27s/it]"
     ]
    },
    {
     "name": "stdout",
     "output_type": "stream",
     "text": [
      "Epoch [3/5], Training Loss: 1.7761, Validation Loss: 1.6379\n"
     ]
    },
    {
     "name": "stderr",
     "output_type": "stream",
     "text": [
      " 80%|██████████████████▍    | 4/5 [01:17<00:18, 18.93s/it]"
     ]
    },
    {
     "name": "stdout",
     "output_type": "stream",
     "text": [
      "Epoch [4/5], Training Loss: 1.7797, Validation Loss: 1.6344\n"
     ]
    },
    {
     "name": "stderr",
     "output_type": "stream",
     "text": [
      "100%|███████████████████████| 5/5 [01:38<00:00, 19.61s/it]"
     ]
    },
    {
     "name": "stdout",
     "output_type": "stream",
     "text": [
      "Epoch [5/5], Training Loss: 1.7777, Validation Loss: 1.5924\n"
     ]
    },
    {
     "name": "stderr",
     "output_type": "stream",
     "text": [
      "\n"
     ]
    }
   ],
   "source": [
    "import torch.optim as optim\n",
    "from tqdm import tqdm\n",
    "\n",
    "# Hyperparameters\n",
    "num_epochs = 5\n",
    "learning_rate = 0.005\n",
    "vocab_size = len(char_to_idx)\n",
    "\n",
    "# Loss function and optimizer\n",
    "cross_entropy = nn.CrossEntropyLoss()\n",
    "optimizer = optim.Adam(model.parameters(), lr=learning_rate)\n",
    "\n",
    "# Training loop\n",
    "for epoch in tqdm(range(num_epochs)):\n",
    "    # first, train the model\n",
    "    model.train()\n",
    "    hidden = model.init_hidden()\n",
    "    training_loss = 0\n",
    "    for inputs, targets in dataloader:\n",
    "        optimizer.zero_grad()\n",
    "        outputs, hidden = model.forward(inputs, hidden)\n",
    "        loss = cross_entropy(outputs.view(-1, vocab_size), targets.squeeze(0))\n",
    "        loss.backward()\n",
    "        optimizer.step()\n",
    "        training_loss = loss.item()\n",
    "        hidden = (hidden[0].detach(), hidden[1].detach())\n",
    "        \n",
    "    # second, evaluate the model to avoid overfitting\n",
    "    model.eval()\n",
    "    total_loss = 0\n",
    "    for inputs, targets in dataloader_eval:\n",
    "        hidden = model.init_hidden()\n",
    "\n",
    "        # forward pass\n",
    "        outputs, hidden = model.forward(inputs, hidden)\n",
    "        loss = cross_entropy(outputs.view(-1, vocab_size), targets.squeeze(0))\n",
    "        total_loss += loss.item()\n",
    "\n",
    "    avg_loss_eval = total_loss / len(dataloader_eval)\n",
    "    print(f'Epoch [{epoch+1}/{num_epochs}], Training Loss: {avg_loss_eval:.4f}, Validation Loss: {training_loss:.4f}')\n"
   ]
  },
  {
   "cell_type": "markdown",
   "id": "f7540a45-2ee6-4d18-9548-7af6b5082825",
   "metadata": {},
   "source": [
    "### 2.4 Sampling generated sequences\n",
    "\n",
    "In the following block, we can see how the model generates an array of probability for each character of the input sequence after"
   ]
  },
  {
   "cell_type": "code",
   "execution_count": 240,
   "id": "234c21cb-68ea-4c5d-a4d0-b190a1640c8d",
   "metadata": {},
   "outputs": [
    {
     "name": "stdout",
     "output_type": "stream",
     "text": [
      "\n",
      "Next character weights vector (values below zero are set to zero):\n",
      " tensor([0.0000, 0.0000, 0.0000, 0.0000, 2.1255, 0.0000, 0.0000, 0.9084, 2.0541,\n",
      "        0.0000, 0.7476, 5.4077, 2.2497, 1.1581, 0.0000, 5.1731, 0.0000, 5.2352,\n",
      "        0.0000, 0.0000, 4.8679, 0.0000, 3.6284, 0.3110, 0.0000, 2.0522, 0.0000,\n",
      "        0.0000, 0.0000, 0.0000, 0.0000, 0.0000, 0.0000, 0.0000, 0.0000, 0.0000,\n",
      "        0.0000, 0.0000, 0.0000, 0.0000, 0.0000, 0.0000, 0.0000])\n",
      "\n",
      "Weights for the next charater with temperature scaling:\n",
      " tensor([[  0.0000,   0.0000,   0.0000,   0.0000, 212.5451,   0.0000,   0.0000,\n",
      "          90.8359, 205.4075,   0.0000,  74.7593, 540.7704, 224.9718, 115.8097,\n",
      "           0.0000, 517.3084,   0.0000, 523.5228,   0.0000,   0.0000, 486.7871,\n",
      "           0.0000, 362.8356,  31.0972,   0.0000, 205.2190,   0.0000,   0.0000,\n",
      "           0.0000,   0.0000,   0.0000,   0.0000,   0.0000,   0.0000,   0.0000,\n",
      "           0.0000,   0.0000,   0.0000,   0.0000,   0.0000,   0.0000,   0.0000,\n",
      "           0.0000]])\n",
      "\n",
      "Probabilities for the next charater after scaling and with the softmax function:\n",
      " tensor([0.0000e+00, 0.0000e+00, 0.0000e+00, 0.0000e+00, 0.0000e+00, 0.0000e+00,\n",
      "        0.0000e+00, 0.0000e+00, 0.0000e+00, 0.0000e+00, 0.0000e+00, 1.0000e+00,\n",
      "        0.0000e+00, 0.0000e+00, 0.0000e+00, 6.4654e-11, 0.0000e+00, 3.2321e-08,\n",
      "        0.0000e+00, 0.0000e+00, 3.5921e-24, 0.0000e+00, 0.0000e+00, 0.0000e+00,\n",
      "        0.0000e+00, 0.0000e+00, 0.0000e+00, 0.0000e+00, 0.0000e+00, 0.0000e+00,\n",
      "        0.0000e+00, 0.0000e+00, 0.0000e+00, 0.0000e+00, 0.0000e+00, 0.0000e+00,\n",
      "        0.0000e+00, 0.0000e+00, 0.0000e+00, 0.0000e+00, 0.0000e+00, 0.0000e+00,\n",
      "        0.0000e+00])\n",
      "Previous characters: ['\\n', '-', \"'\"]\n",
      "Generated character: h\n"
     ]
    },
    {
     "data": {
      "text/plain": [
       "<torch.autograd.grad_mode.set_grad_enabled at 0x1632476b0>"
      ]
     },
     "execution_count": 240,
     "metadata": {},
     "output_type": "execute_result"
    }
   ],
   "source": [
    "import torch.nn.functional as F\n",
    "\n",
    "# First we disable the gradient calculation because we won't need it (no more backpropagation after the training)\n",
    "# This makes the tensor representation cleaner\n",
    "torch.set_grad_enabled(False)\n",
    "\n",
    "hidden = model.init_hidden(1)\n",
    "start_seq = [0, 3, 1]\n",
    "inputs = torch.tensor(start_seq).unsqueeze(0)  # Shape: (1, seq_len)\n",
    "\n",
    "outputs, hidden = model(inputs, hidden) # short for model.forward(inputs, hidden)\n",
    "\n",
    "last_output = outputs[:, -1]\n",
    "last_output[torch.where(last_output<0)] = 0\n",
    "print(\"\\nNext character weights vector (values below zero are set to zero):\\n\", last_output[0])\n",
    "\n",
    "\n",
    "temperature = 0.01\n",
    "last_output = last_output / temperature\n",
    "\n",
    "print(\"\\nWeights for the next charater with temperature scaling:\\n\", last_output)\n",
    "\n",
    "probabilities = F.softmax(last_output, dim=-1).squeeze(0)\n",
    "\n",
    "print(\"\\nProbabilities for the next charater after scaling and with the softmax function:\\n\", probabilities)\n",
    "\n",
    "# This is where the magic happens\n",
    "# the mutinomial method samples (in this case) one item following the weights of the probability vector it recieves\n",
    "predicted_idx = torch.multinomial(probabilities, 1).item()\n",
    "\n",
    "print(\"Previous characters:\", [dataset.idx_to_char[i] for i in start_seq])\n",
    "print(\"Generated character:\", dataset.idx_to_char[predicted_idx])\n",
    "\n",
    "torch.set_grad_enabled(True)"
   ]
  },
  {
   "cell_type": "markdown",
   "id": "08e932ee-c07e-4e35-a5c0-8e91339b7448",
   "metadata": {},
   "source": [
    "Now we can try to generate some pseudo-words to \"vibe check\" how good is our newly trained model at the task it was created for, instead of cold cross-entropy results."
   ]
  },
  {
   "cell_type": "code",
   "execution_count": 24,
   "id": "612970dc-7d14-4be0-b48e-d056a654696f",
   "metadata": {},
   "outputs": [
    {
     "name": "stdout",
     "output_type": "stream",
     "text": [
      "62183\n",
      "1800 words so far\n",
      "tuviedenn\n",
      "uniwell\n",
      "unsoc'h\n",
      "urliñ\n",
      "urmer\n",
      "ursod\n",
      "valouaj\n",
      "vanvezad\n",
      "viedad\n",
      "viedreiñ\n",
      "vious\n",
      "vis-kent\n",
      "visienn\n",
      "vitinañs\n",
      "voazhañ\n",
      "war-staet\n",
      "war-wesk\n",
      "yaouaran\n",
      "youc'hiñ\n",
      "yourc'hennek\n"
     ]
    }
   ],
   "source": [
    "# import torch\n",
    "import torch.nn.functional as F\n",
    "from spylls.hunspell import Dictionary\n",
    "import sys\n",
    "print(len(lemmas))\n",
    "dictionary = Dictionary.from_files(f\"locales/{locale}/{locale}\")\n",
    "\n",
    "\n",
    "def generate_pseudoword(model, length=15, temperature=0.87):\n",
    "    model.eval()\n",
    "    hidden = model.init_hidden(1)\n",
    "    start_seq = [0]\n",
    "    inputs = torch.tensor(start_seq).unsqueeze(0)  # Shape: (1, seq_len)\n",
    "    generated_seq = []\n",
    "    words_generated = set([])\n",
    "\n",
    "    with torch.no_grad():\n",
    "        while len(words_generated) < length:\n",
    "            outputs, hidden = model(inputs, hidden)\n",
    "\n",
    "            # outputs shape: (1, seq_len, vocab_size)\n",
    "            # We need the last time step's output for the next prediction\n",
    "            last_output = outputs[:, -1]  # Shape: (1, vocab_size)\n",
    "\n",
    "            # Apply temperature scaling\n",
    "            last_output = last_output / temperature\n",
    "            probs = F.softmax(last_output, dim=-1).squeeze(0)  # the multinomial accepts only one order tensors\n",
    "\n",
    "            # Ensure all the probabilities are valid\n",
    "            if torch.isnan(probs).any() or torch.isinf(probs).any() or (probs < 0).any():\n",
    "                print(\"Invalid probabilities detected. Resetting to uniform distribution.\")\n",
    "                probs = torch.ones_like(probs) / probs.size(0)\n",
    "\n",
    "            # Sample the next character\n",
    "            predicted_idx = torch.multinomial(probs, 1).item()\n",
    "            generated_seq.append(predicted_idx)\n",
    "            inputs = torch.tensor([[predicted_idx]])  # Shape: (1, 1)\n",
    "\n",
    "            if vocab[predicted_idx] == \"\\n\":\n",
    "                new_word = ''.join([vocab[i] for i in generated_seq[:-1]])\n",
    "                generated_seq = []\n",
    "                if not dictionary.lookup(new_word.capitalize()) and new_word not in lemmas:\n",
    "                    words_generated.add(new_word)\n",
    "                sys.stdout.write(f\"\\r{len(words_generated)} words so far\")\n",
    "\n",
    "    return list(sorted(words_generated))\n",
    "\n",
    "# Example usage\n",
    "generated_pseudoword = generate_pseudoword(model, 1800)\n",
    "print()\n",
    "print(\"\\n\".join(generated_pseudoword[-20:]))\n"
   ]
  },
  {
   "cell_type": "markdown",
   "id": "a978525b-e172-458c-8118-7a76ac648140",
   "metadata": {},
   "source": [
    "# 5 Saving and loading our results\n",
    "\n",
    "If you are happy with the results, like the loss, especially against the validation set, and the words generated, you can run the following block to save the model's weights.\n"
   ]
  },
  {
   "cell_type": "code",
   "execution_count": 21,
   "id": "bd305b3d-a416-4cd1-ad79-7ba2261bc5e9",
   "metadata": {},
   "outputs": [],
   "source": [
    "# Save the best model you've trained so far\n",
    "torch.save(model, f'locales/{locale}/lstm_model-{locale}.pth')"
   ]
  },
  {
   "cell_type": "markdown",
   "id": "aed2ef49-9257-4b1e-84ab-36ba82ade5af",
   "metadata": {},
   "source": [
    "Or use this block to load a previously saved model to generate more non-words."
   ]
  },
  {
   "cell_type": "code",
   "execution_count": 8,
   "id": "a5621bda-d3a6-4d1c-be09-3c278678dc3d",
   "metadata": {},
   "outputs": [],
   "source": [
    "# generate words from the the last version of the model you saved\n",
    "model = torch.load(f'locales/{locale}/lstm_model-{locale}.pth')"
   ]
  },
  {
   "cell_type": "markdown",
   "id": "9945c63e-106f-4796-8493-2bba6d896a8b",
   "metadata": {},
   "source": [
    "We can now generate our pseudo-lexicon. To find it, look out for the pseudo-lemmas.json file in the dictionary folder of your source dictionary."
   ]
  },
  {
   "cell_type": "code",
   "execution_count": 25,
   "id": "4bebcf7a-67c0-4808-825b-13ab84dd9b1b",
   "metadata": {},
   "outputs": [
    {
     "name": "stdout",
     "output_type": "stream",
     "text": [
      "61487 words so far\n",
      "61487 pseudo words successfully generated and loaded in 32.0:36.84s\n"
     ]
    }
   ],
   "source": [
    "# Dump the lemmas to a json file\n",
    "import json\n",
    "import time\n",
    "start_time = time.time()\n",
    "\n",
    "# Define the output file path\n",
    "output_file_path = f\"locales/{locale}/pseudo-lemmas.json\"\n",
    "\n",
    "generated_pseudoword = generate_pseudoword(model, len(lemmas))\n",
    "\n",
    "# Write the lemmas list to the JSON file\n",
    "with open(output_file_path, 'w', encoding='utf-8') as outfile:\n",
    "    json.dump(generated_pseudoword, outfile, ensure_ascii=False, indent=4)\n",
    "\n",
    "print()\n",
    "time = time.time() - start_time\n",
    "\n",
    "print(f\"{len(generated_pseudoword)} pseudo words successfully generated and loaded in {time//60}:{(time%60):.2f}s\")"
   ]
  },
  {
   "cell_type": "code",
   "execution_count": null,
   "id": "07412b88-c7e9-4132-a64b-a9cac74e9851",
   "metadata": {},
   "outputs": [],
   "source": []
  }
 ],
 "metadata": {
  "kernelspec": {
   "display_name": "Python 3 (ipykernel)",
   "language": "python",
   "name": "python3"
  },
  "language_info": {
   "codemirror_mode": {
    "name": "ipython",
    "version": 3
   },
   "file_extension": ".py",
   "mimetype": "text/x-python",
   "name": "python",
   "nbconvert_exporter": "python",
   "pygments_lexer": "ipython3",
   "version": "3.12.8"
  }
 },
 "nbformat": 4,
 "nbformat_minor": 5
}
