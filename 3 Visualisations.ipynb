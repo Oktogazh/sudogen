{
 "cells": [
  {
   "cell_type": "markdown",
   "id": "bd4bd97b-e7d9-4063-9130-8d4a3f0088f3",
   "metadata": {},
   "source": [
    "# Understanding the network through visualizations\n",
    "During the training process, our models learn two things that allow it to generate the pseudo words. First, it creates a relevant embedded representation of the \"vocabulary\", the language's characters. Second, by leveraging these representations, it can generate an abstraction, a \"memory\", of the previously seen characters to create patterns which we ultimately analyze as syllables and plausible words. In this section, we will create visualizations of these two phenomenon to show that deep learning is not an absolute black box.\n",
    "\n",
    "## 1 How characters relate to each other\n",
    "The first layer of how model is an embedding layer, it contains the key to turn a character index into arrays of numbers, which is called embedding. We also need our tokenizer, which is a simple dictionary mapping the characters of our training dataset to their aforementioned indices."
   ]
  },
  {
   "cell_type": "code",
   "execution_count": 4,
   "id": "fabfd3f3-62f8-4a1e-81ac-d014c9ac8cfd",
   "metadata": {},
   "outputs": [
    {
     "name": "stdout",
     "output_type": "stream",
     "text": [
      "Requirement already satisfied: numpy<2 in /Users/alan/miniconda3/lib/python3.12/site-packages (1.26.4)\n",
      "Requirement already satisfied: torch in /Users/alan/miniconda3/lib/python3.12/site-packages (2.2.2)\n",
      "Requirement already satisfied: scikit-learn in /Users/alan/miniconda3/lib/python3.12/site-packages (1.6.1)\n",
      "Requirement already satisfied: seaborn in /Users/alan/miniconda3/lib/python3.12/site-packages (0.13.2)\n",
      "Requirement already satisfied: matplotlib in /Users/alan/miniconda3/lib/python3.12/site-packages (3.10.1)\n",
      "Requirement already satisfied: pandas in /Users/alan/miniconda3/lib/python3.12/site-packages (2.2.3)\n",
      "Requirement already satisfied: filelock in /Users/alan/miniconda3/lib/python3.12/site-packages (from torch) (3.18.0)\n",
      "Requirement already satisfied: typing-extensions>=4.8.0 in /Users/alan/miniconda3/lib/python3.12/site-packages (from torch) (4.12.2)\n",
      "Requirement already satisfied: sympy in /Users/alan/miniconda3/lib/python3.12/site-packages (from torch) (1.13.3)\n",
      "Requirement already satisfied: networkx in /Users/alan/miniconda3/lib/python3.12/site-packages (from torch) (3.4.2)\n",
      "Requirement already satisfied: jinja2 in /Users/alan/miniconda3/lib/python3.12/site-packages (from torch) (3.1.6)\n",
      "Requirement already satisfied: fsspec in /Users/alan/miniconda3/lib/python3.12/site-packages (from torch) (2025.3.1)\n",
      "Requirement already satisfied: scipy>=1.6.0 in /Users/alan/miniconda3/lib/python3.12/site-packages (from scikit-learn) (1.13.1)\n",
      "Requirement already satisfied: joblib>=1.2.0 in /Users/alan/miniconda3/lib/python3.12/site-packages (from scikit-learn) (1.4.2)\n",
      "Requirement already satisfied: threadpoolctl>=3.1.0 in /Users/alan/miniconda3/lib/python3.12/site-packages (from scikit-learn) (3.6.0)\n",
      "Requirement already satisfied: contourpy>=1.0.1 in /Users/alan/miniconda3/lib/python3.12/site-packages (from matplotlib) (1.3.1)\n",
      "Requirement already satisfied: cycler>=0.10 in /Users/alan/miniconda3/lib/python3.12/site-packages (from matplotlib) (0.12.1)\n",
      "Requirement already satisfied: fonttools>=4.22.0 in /Users/alan/miniconda3/lib/python3.12/site-packages (from matplotlib) (4.56.0)\n",
      "Requirement already satisfied: kiwisolver>=1.3.1 in /Users/alan/miniconda3/lib/python3.12/site-packages (from matplotlib) (1.4.8)\n",
      "Requirement already satisfied: packaging>=20.0 in /Users/alan/miniconda3/lib/python3.12/site-packages (from matplotlib) (24.1)\n",
      "Requirement already satisfied: pillow>=8 in /Users/alan/miniconda3/lib/python3.12/site-packages (from matplotlib) (11.1.0)\n",
      "Requirement already satisfied: pyparsing>=2.3.1 in /Users/alan/miniconda3/lib/python3.12/site-packages (from matplotlib) (3.2.1)\n",
      "Requirement already satisfied: python-dateutil>=2.7 in /Users/alan/miniconda3/lib/python3.12/site-packages (from matplotlib) (2.9.0.post0)\n",
      "Requirement already satisfied: pytz>=2020.1 in /Users/alan/miniconda3/lib/python3.12/site-packages (from pandas) (2025.1)\n",
      "Requirement already satisfied: tzdata>=2022.7 in /Users/alan/miniconda3/lib/python3.12/site-packages (from pandas) (2025.2)\n",
      "Requirement already satisfied: six>=1.5 in /Users/alan/miniconda3/lib/python3.12/site-packages (from python-dateutil>=2.7->matplotlib) (1.17.0)\n",
      "Requirement already satisfied: MarkupSafe>=2.0 in /Users/alan/miniconda3/lib/python3.12/site-packages (from jinja2->torch) (3.0.2)\n",
      "Requirement already satisfied: mpmath<1.4,>=1.1.0 in /Users/alan/miniconda3/lib/python3.12/site-packages (from sympy->torch) (1.3.0)\n",
      "Note: you may need to restart the kernel to use updated packages.\n"
     ]
    }
   ],
   "source": [
    "%pip install 'numpy<2', torch scikit-learn seaborn matplotlib pandas"
   ]
  },
  {
   "cell_type": "code",
   "execution_count": 267,
   "id": "940450de-4382-49cf-878a-bfbdab146cf5",
   "metadata": {},
   "outputs": [],
   "source": [
    "import torch\n",
    "import torch.nn as nn\n",
    "\n",
    "# 0: redeclare the LSTMModel class\n",
    "class LSTMModel(nn.Module):\n",
    "    def __init__(self, embedding_dim=4, hidden_dim=4, layers_number=1, char_to_idx={}, idx_to_char={}):\n",
    "        super().__init__()\n",
    "        vocab_size = len(char_to_idx.keys())\n",
    "        self.char_to_idx = char_to_idx\n",
    "        self.idx_to_char = idx_to_char\n",
    "        self.embedding = nn.Embedding(vocab_size, embedding_dim)\n",
    "        self.lstm = nn.LSTM(embedding_dim, hidden_dim, layers_number, batch_first=True)\n",
    "        self.fc = nn.Linear(hidden_dim, vocab_size)\n",
    "\n",
    "    # The forward function is the one getting called everytime\n",
    "    # the model created by an instance of this class is called\n",
    "    # model(x, hidden) == model.forward(x, hidden)\n",
    "    def forward(self, x, hidden):\n",
    "        x = self.embedding(x)\n",
    "        out, hidden = self.lstm(x, hidden)\n",
    "        out = self.fc(out)\n",
    "        return out, hidden\n",
    "\n",
    "# 1: load the model from the previous chapter\n",
    "locale = \"en-GB\" # Change this variable if you want to inspect another language you trained\n",
    "model = torch.load(f'locales/{locale}/lstm_model-{locale}.pth')\n",
    "torch.set_grad_enabled(False)\n",
    "\n",
    "# 2: extract the embedding layer and its associated characters\n",
    "chars = [n if n != \"\\n\" else \"\\\\n\" for n in model.idx_to_char.values()]\n",
    "embedding = model.embedding.weight.numpy()"
   ]
  },
  {
   "cell_type": "markdown",
   "id": "2cc20c56-44e9-41f7-bea8-3deb93a54789",
   "metadata": {},
   "source": [
    "Now we will use the library scikit-learn's T-distributed Stochastic Neighbor Embedding (t-SNE) to do reduce the dimensionalities of the vectorial representation of the embedded characters. In our original model, the characters are represented in a 16 dimensional space, but to show how close the characters are associated to one another during the training process, we only need two dimensions."
   ]
  },
  {
   "cell_type": "code",
   "execution_count": 1,
   "id": "e9ec8878-8988-40ea-b199-c85f8e3fd73e",
   "metadata": {},
   "outputs": [
    {
     "ename": "NameError",
     "evalue": "name 'embedding' is not defined",
     "output_type": "error",
     "traceback": [
      "\u001b[31m---------------------------------------------------------------------------\u001b[39m",
      "\u001b[31mNameError\u001b[39m                                 Traceback (most recent call last)",
      "\u001b[36mCell\u001b[39m\u001b[36m \u001b[39m\u001b[32mIn[1]\u001b[39m\u001b[32m, line 9\u001b[39m\n\u001b[32m      6\u001b[39m \u001b[38;5;28;01mfrom\u001b[39;00m\u001b[38;5;250m \u001b[39m\u001b[34;01msklearn\u001b[39;00m\u001b[34;01m.\u001b[39;00m\u001b[34;01mdecomposition\u001b[39;00m\u001b[38;5;250m \u001b[39m\u001b[38;5;28;01mimport\u001b[39;00m PCA\n\u001b[32m      8\u001b[39m \u001b[38;5;66;03m# 3 use scikit learn to do TSNE dimensionality reduction\u001b[39;00m\n\u001b[32m----> \u001b[39m\u001b[32m9\u001b[39m X = np.array(\u001b[43membedding\u001b[49m)\n\u001b[32m     10\u001b[39m reduced_embedding = PCA(n_components=\u001b[32m2\u001b[39m).fit_transform(TSNE(n_components=\u001b[32m2\u001b[39m, perplexity=\u001b[32m6\u001b[39m).fit_transform(X))\n\u001b[32m     12\u001b[39m df = pd.DataFrame(reduced_embedding, columns=[\u001b[33m\"\u001b[39m\u001b[33mx\u001b[39m\u001b[33m\"\u001b[39m, \u001b[33m\"\u001b[39m\u001b[33my\u001b[39m\u001b[33m\"\u001b[39m])\n",
      "\u001b[31mNameError\u001b[39m: name 'embedding' is not defined"
     ]
    }
   ],
   "source": [
    "import matplotlib.pyplot as plt\n",
    "import numpy as np\n",
    "import seaborn as sns\n",
    "import pandas as pd\n",
    "from sklearn.manifold import TSNE\n",
    "from sklearn.decomposition import PCA\n",
    "\n",
    "# 3 use scikit learn to do TSNE dimensionality reduction\n",
    "X = np.array(embedding)\n",
    "reduced_embedding = PCA(n_components=2).fit_transform(TSNE(n_components=2, perplexity=6).fit_transform(X))\n",
    "\n",
    "df = pd.DataFrame(reduced_embedding, columns=[\"x\", \"y\"])\n",
    "\n",
    "df[\"chars\"] = chars\n",
    "df[\"Category\"] = [\"vowel\" if c in \"aeiou\" else \"semi-vowel\" if c in \"yw\" else \"new line\" if c == \"\\\\n\" else \"consonant\" for c in chars]\n",
    "\n",
    "plt.figure(figsize=(6, 6))\n",
    "sns.scatterplot(x=\"x\", y=\"y\", data=df, hue=\"Category\")\n",
    "\n",
    "for i in range(len(chars)):\n",
    "    plt.annotate(df[\"chars\"][i], (df[\"x\"][i]+1, df[\"y\"][i]+1))\n",
    "\n",
    "plt.show()"
   ]
  },
  {
   "cell_type": "markdown",
   "id": "f8c0c350-259c-413f-8313-6bed54cafbac",
   "metadata": {},
   "source": [
    "## 2 Inspecting the memory of an LSTM cell\n",
    "This section is inspired by this [Andrej Karpathy's article](https://karpathy.github.io/2015/05/21/rnn-effectiveness/)"
   ]
  },
  {
   "cell_type": "code",
   "execution_count": 283,
   "id": "4b6825ce-eb39-4b16-8870-0416140c03ba",
   "metadata": {},
   "outputs": [],
   "source": [
    "# 1 create a function that generated a pseudo-word\n",
    "import torch.nn.functional as F\n",
    "from spylls.hunspell import Dictionary\n",
    "\n",
    "dictionary = Dictionary.from_files(f\"locales/{locale}/{locale}\")\n",
    "\n",
    "def generate_pseudoword(model, length=3, start=\"\", temperature=0.7):\n",
    "    model.eval()\n",
    "    # change these values if you change the number length of the hidden_dim in the model you saved in part 2\n",
    "    hidden = (torch.zeros(1, 1 , 13),\n",
    "                torch.zeros(1, 1 , 13))\n",
    "    start_seq = [model.char_to_idx[n] for n in f\"\\n{start}\"]\n",
    "    inputs = torch.tensor(start_seq).unsqueeze(0)  # Shape: (1, seq_len)\n",
    "    generated_seq = start_seq[1:]\n",
    "    hidden_history = len(start)*[13*[1]]\n",
    "    words_generated = []\n",
    "\n",
    "    with torch.no_grad():\n",
    "        while len(words_generated) < length:\n",
    "            outputs, hidden = model(inputs, hidden)\n",
    "\n",
    "            # outputs shape: (1, seq_len, vocab_size)\n",
    "            # We need the last time step's output for the next prediction\n",
    "            last_output = outputs[:, -1]  # Shape: (1, vocab_size)\n",
    "\n",
    "            # Apply temperature scaling\n",
    "            last_output = last_output / temperature\n",
    "            probs = F.softmax(last_output, dim=-1).squeeze(0)  # the multinomial accepts only one order tensors\n",
    "\n",
    "            # Ensure all the probabilities are valid\n",
    "            if torch.isnan(probs).any() or torch.isinf(probs).any() or (probs < 0).any():\n",
    "                print(\"Invalid probabilities detected. Resetting to uniform distribution.\")\n",
    "                probs = torch.ones_like(probs) / probs.size(0)\n",
    "\n",
    "            # Sample the next character\n",
    "            predicted_idx = torch.multinomial(probs, 1).item()\n",
    "            generated_seq.append(predicted_idx)\n",
    "            hidden_history.append(hidden[0].squeeze().numpy())\n",
    "            inputs = torch.tensor([[predicted_idx]])  # Shape: (1, 1)\n",
    "\n",
    "            if model.idx_to_char[predicted_idx] == \"\\n\":\n",
    "                new_word = ''.join([model.idx_to_char[i] for i in generated_seq[:-1]])\n",
    "                generated_seq = []\n",
    "                words_generated.append(new_word)\n",
    "    return \" \".join(words_generated)+\" \", hidden_history"
   ]
  },
  {
   "cell_type": "code",
   "execution_count": 288,
   "id": "6fd694bb-1c55-49d8-b125-afed37346e61",
   "metadata": {},
   "outputs": [
    {
     "data": {
      "text/plain": [
       "<Axes: >"
      ]
     },
     "execution_count": 288,
     "metadata": {},
     "output_type": "execute_result"
    },
    {
     "data": {
      "image/png": "[encoded data removed]",
      "text/plain": [
       "<Figure size 1300x400 with 2 Axes>"
      ]
     },
     "metadata": {},
     "output_type": "display_data"
    }
   ],
   "source": [
    "import matplotlib.pyplot as plt\n",
    "import seaborn as sns\n",
    "\n",
    "# 2 have the function return a matrix of the successive hidden states along with the word\n",
    "words, hidden_state_history = generate_pseudoword(model, length=5)\n",
    "\n",
    "df = pd.DataFrame(hidden_state_history)\n",
    "\n",
    "df = df.transpose()\n",
    "df.columns = list(words)\n",
    "# 3 create a second function that builds a heatmap with all values of the hidden state vector at each point of the generation\n",
    "sns.set_theme(palette=None)\n",
    "\n",
    "f, ax = plt.subplots(figsize=(13, 4))\n",
    "sns.heatmap(df, annot=False, ax=ax)"
   ]
  },
  {
   "cell_type": "markdown",
   "id": "9d9905c2-72a7-4453-94b2-315c10861ffd",
   "metadata": {},
   "source": [
    "In the beginning I thought this experiment was a failure and could explain this in one of two reasons. Either the hidden state vector is too large and the representation of the memory is too distributed to be associated to a single index, or the same vector is too short, and the model does not learn the pattern recognition enough to attempt any analysis in the first place.\n",
    "But, as it turned out, I was using a set to collect the newly generated words in my original function. So that a word would not be generated twice. But this had as an effect to output the words in the wrong order... I then turn the set to a list in the generator function and was able to identify patterns in my LSTM cell.  \n",
    "\n",
    "Below, we drop the other indices to highlight only the one that seemed to measure the length of a word, or more precisely, the chances for a word to finish. In the second word below, the chances a word ends might go down if a new character (chosen in a stochastic process) or sequence of character is an unlikely end for a word.\n",
    "\n",
    "If you trick the number of parameters such as the `hidden_dim` or `embedding_dim` in the previous part, you might be able to identify an index that represent the likelihood of a vowel or a consonant being selected. In this model, with 13 dimension this aspect is too distributed in the vector, but with 8 dimensions, I could do it, although the words did not look as convincing."
   ]
  },
  {
   "cell_type": "code",
   "execution_count": 291,
   "id": "04677a5c-78cf-4150-881a-75d7707b38da",
   "metadata": {},
   "outputs": [
    {
     "data": {
      "text/plain": [
       "<Axes: >"
      ]
     },
     "execution_count": 291,
     "metadata": {},
     "output_type": "execute_result"
    },
    {
     "data": {
      "image/png": "[encoded data removed]",
      "text/plain": [
       "<Figure size 1300x250 with 2 Axes>"
      ]
     },
     "metadata": {},
     "output_type": "display_data"
    }
   ],
   "source": [
    "df_ = df.drop(df.index.to_list()[:10] + df.index.to_list()[11:])\n",
    "f, ax = plt.subplots(figsize=(13, 2.5))\n",
    "sns.heatmap(df_, annot=False, ax=ax)"
   ]
  },
  {
   "cell_type": "code",
   "execution_count": null,
   "id": "7304c4fb-d02b-4d34-9cc2-7d6ad829b06d",
   "metadata": {},
   "outputs": [],
   "source": []
  }
 ],
 "metadata": {
  "kernelspec": {
   "display_name": "Python 3 (ipykernel)",
   "language": "python",
   "name": "python3"
  },
  "language_info": {
   "codemirror_mode": {
    "name": "ipython",
    "version": 3
   },
   "file_extension": ".py",
   "mimetype": "text/x-python",
   "name": "python",
   "nbconvert_exporter": "python",
   "pygments_lexer": "ipython3",
   "version": "3.12.8"
  }
 },
 "nbformat": 4,
 "nbformat_minor": 5
}
