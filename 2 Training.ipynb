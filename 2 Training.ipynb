{
 "cells": [
  {
   "cell_type": "markdown",
   "id": "bd4bd97b-e7d9-4063-9130-8d4a3f0088f3",
   "metadata": {},
   "source": [
    "# Training the model\n",
    "Before starting, we will load a list of lemmas from the previous part."
   ]
  },
  {
   "cell_type": "code",
   "execution_count": 399,
   "id": "1d93ce1f-55f6-49e1-b0a0-f9d4d0ffe5f7",
   "metadata": {},
   "outputs": [
    {
     "name": "stdout",
     "output_type": "stream",
     "text": [
      "58953 items loaded from dictionaries/cy_GB/lemmas.json\n"
     ]
    }
   ],
   "source": [
    "# Dump the lemmas to a json file\n",
    "import json\n",
    "import random\n",
    "\n",
    "# Change this variable to load another list of lemmas\n",
    "locale = \"cy_GB\"\n",
    "\n",
    "# Define the file path\n",
    "file_path = f\"dictionaries/{locale}/lemmas.json\"\n",
    "\n",
    "# Write the lemmas list to the JSON file\n",
    "try:\n",
    "    with open(file_path) as f:\n",
    "        content = f.read()\n",
    "        if not content.strip():\n",
    "            raise ValueError(\"The JSON file is empty.\")\n",
    "        lemmas = json.loads(content)\n",
    "except FileNotFoundError:\n",
    "    print(f\"Error: File not found at {file_path}\")\n",
    "    lemmas = []\n",
    "except ValueError as e:\n",
    "    print(f\"Error: {e}\")\n",
    "    lemmas = []\n",
    "except json.JSONDecodeError:\n",
    "    print(f\"Error: Invalid JSON content in {file_path}\")\n",
    "    lemmas = []\n",
    "\n",
    "print(f\"{len(lemmas)} items loaded from {file_path}\")"
   ]
  },
  {
   "cell_type": "markdown",
   "id": "cd9e85c7",
   "metadata": {},
   "source": [
    "## 1 Data Preparation\n",
    "Now we can start tokenizing our data."
   ]
  },
  {
   "cell_type": "code",
   "execution_count": null,
   "id": "a8b625bc-d3e6-4444-92be-52a33b6a55eb",
   "metadata": {},
   "outputs": [],
   "source": [
    "# TODO: use bite pair encoding tokenization before"
   ]
  },
  {
   "cell_type": "code",
   "execution_count": 105,
   "id": "841ce465-aad1-4b8b-b1c7-30bbbe94f8a9",
   "metadata": {},
   "outputs": [
    {
     "name": "stdout",
     "output_type": "stream",
     "text": [
      "Requirement already satisfied: numpy<2 in /Users/alan/miniconda3/lib/python3.12/site-packages (1.26.4)\n",
      "Requirement already satisfied: torch in /Users/alan/miniconda3/lib/python3.12/site-packages (2.2.2)\n",
      "Requirement already satisfied: filelock in /Users/alan/miniconda3/lib/python3.12/site-packages (from torch) (3.18.0)\n",
      "Requirement already satisfied: typing-extensions>=4.8.0 in /Users/alan/miniconda3/lib/python3.12/site-packages (from torch) (4.12.2)\n",
      "Requirement already satisfied: sympy in /Users/alan/miniconda3/lib/python3.12/site-packages (from torch) (1.13.3)\n",
      "Requirement already satisfied: networkx in /Users/alan/miniconda3/lib/python3.12/site-packages (from torch) (3.4.2)\n",
      "Requirement already satisfied: jinja2 in /Users/alan/miniconda3/lib/python3.12/site-packages (from torch) (3.1.6)\n",
      "Requirement already satisfied: fsspec in /Users/alan/miniconda3/lib/python3.12/site-packages (from torch) (2025.3.1)\n",
      "Requirement already satisfied: MarkupSafe>=2.0 in /Users/alan/miniconda3/lib/python3.12/site-packages (from jinja2->torch) (3.0.2)\n",
      "Requirement already satisfied: mpmath<1.4,>=1.1.0 in /Users/alan/miniconda3/lib/python3.12/site-packages (from sympy->torch) (1.3.0)\n",
      "Note: you may need to restart the kernel to use updated packages.\n"
     ]
    }
   ],
   "source": [
    "# ensure you have the necessary library\n",
    "%pip install 'numpy<2', torch"
   ]
  },
  {
   "cell_type": "code",
   "execution_count": 361,
   "id": "722c32a6-5932-4547-93c7-56ac01515ed9",
   "metadata": {},
   "outputs": [],
   "source": [
    "import torch\n",
    "from torch.utils.data import Dataset, DataLoader\n",
    "\n",
    "class CharDataset(Dataset):\n",
    "    def __init__(self, sequences, vocab):\n",
    "        self.sequences = sequences\n",
    "        self.vocab = vocab\n",
    "        self.char_to_idx = {char: idx for idx, char in enumerate(vocab)}\n",
    "        self.idx_to_char = {idx: char for idx, char in enumerate(vocab)}\n",
    "\n",
    "    def __len__(self):\n",
    "        return len(self.sequences)\n",
    "\n",
    "    def __getitem__(self, idx):\n",
    "        sequence = self.sequences[idx]\n",
    "        input_seq = [self.char_to_idx[char] for char in sequence[:-1]]\n",
    "        target_seq = [self.char_to_idx[char] for char in sequence[1:]]\n",
    "        return torch.tensor(input_seq), torch.tensor(target_seq)\n",
    "\n",
    "# In this case \"vocab\" is literally the latin alphabet\n",
    "vocab = sorted(set(\"\".join(lemmas)))\n",
    "dataset = CharDataset(lemmas, vocab)"
   ]
  },
  {
   "cell_type": "markdown",
   "id": "f8c0c350-259c-413f-8313-6bed54cafbac",
   "metadata": {},
   "source": [
    "This loaded the lemmas in a dataset in a format that torch can understand. Each word is turned in a pair of sequences, an input (missing the last character) and a target (missing the first character). In this case, because the input sequences start with an added \"start of sequence\" special token, the target sequence is the full word. In plain English, this means that we also want our model to learn what is the most likely first letter of a word, not only the next most likely character based on the beginning of the sequence. \n",
    "\n",
    "All the characters are converted to numbers, each being the index of the input neuron that will be activated during the training. The system has as many inputs neurons, or input dimension, as there are items in the vocabulary. This is a reasonable number that allows the model to train on any computer, but imagine the size of a model when the vocabulary contains hundred of thousands of words (from different languages), and that each one needs its own input neuron... \n",
    "\n",
    "Run the following block to see how your data will be processed by the neural network."
   ]
  },
  {
   "cell_type": "code",
   "execution_count": 362,
   "id": "baf79685-949a-4e88-8d1b-7be77290ed95",
   "metadata": {},
   "outputs": [
    {
     "name": "stdout",
     "output_type": "stream",
     "text": [
      "== throatiness == \n",
      "becomes the sequences:\n",
      "tensor([19,  7, 17, 14,  0, 19,  8, 13,  4, 18]) (input)\n",
      "and tensor([ 7, 17, 14,  0, 19,  8, 13,  4, 18, 18]) (target)\n"
     ]
    }
   ],
   "source": [
    "from random import randrange\n",
    "n = randrange(len(lemmas))\n",
    "\n",
    "print(f\"== {lemmas[n]} == \\nbecomes the sequences:\\n{dataset[n][0]} (input)\\nand {dataset[n][1]} (target)\")"
   ]
  },
  {
   "cell_type": "markdown",
   "id": "9f35c012-ccf3-47dc-9bb7-2724b765747d",
   "metadata": {},
   "source": [
    "For convenience during both training and generation, we'll group the words in lists of a percent of the total number of words and separate each word by a special newline character \"\\n\". We also extract five sequences for validation."
   ]
  },
  {
   "cell_type": "code",
   "execution_count": 363,
   "id": "14dcabc6-40f6-4ed5-abdc-36b3c041c33d",
   "metadata": {},
   "outputs": [],
   "source": [
    "import random\n",
    "\n",
    "random.shuffle(lemmas)\n",
    "percent_len = len(lemmas)//100\n",
    "sequences = [\"\\n\" + \"\\n\".join(lemmas[(n-1)*percent_len:n*percent_len])+ \"\\n\" for n in range(1, 101)]\n",
    "seq_training = sequences[:95]\n",
    "seq_validating = sequences[95:]\n",
    "vocab = sorted(set(\"\".join(sequences)))\n",
    "dataset = CharDataset(seq_training, vocab)\n",
    "dataset_eval = CharDataset(seq_validating, vocab)\n",
    "dataloader = DataLoader(dataset, shuffle=True)\n",
    "dataloader_eval = DataLoader(dataset_eval, shuffle=True)"
   ]
  },
  {
   "cell_type": "markdown",
   "id": "1498159b-3c77-433c-b681-e60bfb141b35",
   "metadata": {},
   "source": [
    "## 2 Defining the Model"
   ]
  },
  {
   "cell_type": "markdown",
   "id": "2247b706-7e46-4bed-962d-7f9ef9cbe1e9",
   "metadata": {},
   "source": [
    "In this part we design our network. We first initialize a PyTorch [module](https://pytorch.org/docs/stable/generated/torch.nn.Module.html#torch.nn.Module) by defining the different parts of the network: an embedding layer to turn each character in a 64 dimensional vector (an array of 64 numbers), two LSTM cell that will do the actual pattern recognition and prediction work and the linear fully connected (self.fc) layer converts these predictions in a simple discrete value, i.e. the index of the next character.\n",
    "\n",
    "The forward function defines the order in which the input data will go through the network. It outputs the prediction and the updated hidden layer of the LSTM cells (these hidden states are updated even during the forward pass). And finally we have a function initializing the these hidden states with empty tensors of the good shape."
   ]
  },
  {
   "cell_type": "code",
   "execution_count": 404,
   "id": "0631f9e1-1050-4c1c-914d-066aec50550e",
   "metadata": {},
   "outputs": [
    {
     "name": "stdout",
     "output_type": "stream",
     "text": [
      "Model ready! Total number of parameters: 7723\n"
     ]
    }
   ],
   "source": [
    "import torch.nn as nn\n",
    "\n",
    "class LSTMModel(nn.Module):\n",
    "    def __init__(self, vocab_size, embedding_dim, hidden_dim, num_layers):\n",
    "        super().__init__()\n",
    "        self.embedding = nn.Embedding(vocab_size, embedding_dim)\n",
    "        self.lstm = nn.LSTM(embedding_dim, hidden_dim, num_layers, batch_first=True)\n",
    "        self.fc = nn.Linear(hidden_dim, vocab_size)\n",
    "\n",
    "    def forward(self, x, hidden):\n",
    "        x = self.embedding(x)\n",
    "        out, hidden = self.lstm(x, hidden)\n",
    "        out = self.fc(out)\n",
    "        return out, hidden\n",
    "\n",
    "    def init_hidden(self, batch_size=1):\n",
    "        return (torch.zeros(num_layers, batch_size , hidden_dim),\n",
    "                torch.zeros(num_layers, batch_size , hidden_dim))\n",
    "\n",
    "# Example usage\n",
    "vocab_size = len(vocab)\n",
    "embedding_dim = 16\n",
    "hidden_dim = 32\n",
    "num_layers = 1\n",
    "model = LSTMModel(vocab_size, embedding_dim, hidden_dim, num_layers)\n",
    "\n",
    "total_params = sum(p.numel() for p in model.parameters())\n",
    "print(f'Model ready! Total number of parameters: {total_params}')"
   ]
  },
  {
   "cell_type": "markdown",
   "id": "c0e3fadd-7c89-4f46-8727-f58a5f735522",
   "metadata": {},
   "source": [
    "# 3 Training\n",
    "After defining a couple of hyperparameters, we are ready to train our model."
   ]
  },
  {
   "cell_type": "code",
   "execution_count": 405,
   "id": "fe522c6a-bc95-49b8-b92c-a46d83f1b0cd",
   "metadata": {},
   "outputs": [
    {
     "name": "stderr",
     "output_type": "stream",
     "text": [
      "  5%|▉                 | 1/20 [00:01<00:22,  1.19s/it]"
     ]
    },
    {
     "name": "stdout",
     "output_type": "stream",
     "text": [
      "Epoch [1/20], Training Loss: 2.4454, Validation Loss: 2.4621\n"
     ]
    },
    {
     "name": "stderr",
     "output_type": "stream",
     "text": [
      " 10%|█▊                | 2/20 [00:02<00:20,  1.12s/it]"
     ]
    },
    {
     "name": "stdout",
     "output_type": "stream",
     "text": [
      "Epoch [2/20], Training Loss: 2.3104, Validation Loss: 2.3279\n"
     ]
    },
    {
     "name": "stderr",
     "output_type": "stream",
     "text": [
      " 15%|██▋               | 3/20 [00:03<00:18,  1.10s/it]"
     ]
    },
    {
     "name": "stdout",
     "output_type": "stream",
     "text": [
      "Epoch [3/20], Training Loss: 2.2489, Validation Loss: 2.2388\n"
     ]
    },
    {
     "name": "stderr",
     "output_type": "stream",
     "text": [
      " 20%|███▌              | 4/20 [00:04<00:17,  1.09s/it]"
     ]
    },
    {
     "name": "stdout",
     "output_type": "stream",
     "text": [
      "Epoch [4/20], Training Loss: 2.2085, Validation Loss: 2.1689\n"
     ]
    },
    {
     "name": "stderr",
     "output_type": "stream",
     "text": [
      " 25%|████▌             | 5/20 [00:05<00:17,  1.15s/it]"
     ]
    },
    {
     "name": "stdout",
     "output_type": "stream",
     "text": [
      "Epoch [5/20], Training Loss: 2.1868, Validation Loss: 2.1740\n"
     ]
    },
    {
     "name": "stderr",
     "output_type": "stream",
     "text": [
      " 30%|█████▍            | 6/20 [00:06<00:16,  1.16s/it]"
     ]
    },
    {
     "name": "stdout",
     "output_type": "stream",
     "text": [
      "Epoch [6/20], Training Loss: 2.1679, Validation Loss: 2.1557\n"
     ]
    },
    {
     "name": "stderr",
     "output_type": "stream",
     "text": [
      " 35%|██████▎           | 7/20 [00:08<00:15,  1.17s/it]"
     ]
    },
    {
     "name": "stdout",
     "output_type": "stream",
     "text": [
      "Epoch [7/20], Training Loss: 2.1568, Validation Loss: 2.1400\n"
     ]
    },
    {
     "name": "stderr",
     "output_type": "stream",
     "text": [
      " 40%|███████▏          | 8/20 [00:09<00:14,  1.17s/it]"
     ]
    },
    {
     "name": "stdout",
     "output_type": "stream",
     "text": [
      "Epoch [8/20], Training Loss: 2.1454, Validation Loss: 2.1591\n"
     ]
    },
    {
     "name": "stderr",
     "output_type": "stream",
     "text": [
      " 45%|████████          | 9/20 [00:10<00:12,  1.17s/it]"
     ]
    },
    {
     "name": "stdout",
     "output_type": "stream",
     "text": [
      "Epoch [9/20], Training Loss: 2.1374, Validation Loss: 2.1326\n"
     ]
    },
    {
     "name": "stderr",
     "output_type": "stream",
     "text": [
      " 50%|████████▌        | 10/20 [00:11<00:11,  1.15s/it]"
     ]
    },
    {
     "name": "stdout",
     "output_type": "stream",
     "text": [
      "Epoch [10/20], Training Loss: 2.1309, Validation Loss: 2.1157\n"
     ]
    },
    {
     "name": "stderr",
     "output_type": "stream",
     "text": [
      " 55%|█████████▎       | 11/20 [00:12<00:10,  1.14s/it]"
     ]
    },
    {
     "name": "stdout",
     "output_type": "stream",
     "text": [
      "Epoch [11/20], Training Loss: 2.1264, Validation Loss: 2.1310\n"
     ]
    },
    {
     "name": "stderr",
     "output_type": "stream",
     "text": [
      " 60%|██████████▏      | 12/20 [00:13<00:09,  1.13s/it]"
     ]
    },
    {
     "name": "stdout",
     "output_type": "stream",
     "text": [
      "Epoch [12/20], Training Loss: 2.1203, Validation Loss: 2.1190\n"
     ]
    },
    {
     "name": "stderr",
     "output_type": "stream",
     "text": [
      " 65%|███████████      | 13/20 [00:14<00:07,  1.13s/it]"
     ]
    },
    {
     "name": "stdout",
     "output_type": "stream",
     "text": [
      "Epoch [13/20], Training Loss: 2.1182, Validation Loss: 2.0851\n"
     ]
    },
    {
     "name": "stderr",
     "output_type": "stream",
     "text": [
      " 70%|███████████▉     | 14/20 [00:15<00:06,  1.13s/it]"
     ]
    },
    {
     "name": "stdout",
     "output_type": "stream",
     "text": [
      "Epoch [14/20], Training Loss: 2.1125, Validation Loss: 2.0696\n"
     ]
    },
    {
     "name": "stderr",
     "output_type": "stream",
     "text": [
      " 75%|████████████▊    | 15/20 [00:17<00:05,  1.10s/it]"
     ]
    },
    {
     "name": "stdout",
     "output_type": "stream",
     "text": [
      "Epoch [15/20], Training Loss: 2.1086, Validation Loss: 2.1229\n"
     ]
    },
    {
     "name": "stderr",
     "output_type": "stream",
     "text": [
      " 80%|█████████████▌   | 16/20 [00:18<00:04,  1.07s/it]"
     ]
    },
    {
     "name": "stdout",
     "output_type": "stream",
     "text": [
      "Epoch [16/20], Training Loss: 2.1048, Validation Loss: 2.0687\n"
     ]
    },
    {
     "name": "stderr",
     "output_type": "stream",
     "text": [
      " 85%|██████████████▍  | 17/20 [00:19<00:03,  1.06s/it]"
     ]
    },
    {
     "name": "stdout",
     "output_type": "stream",
     "text": [
      "Epoch [17/20], Training Loss: 2.1052, Validation Loss: 2.0477\n"
     ]
    },
    {
     "name": "stderr",
     "output_type": "stream",
     "text": [
      " 90%|███████████████▎ | 18/20 [00:20<00:02,  1.05s/it]"
     ]
    },
    {
     "name": "stdout",
     "output_type": "stream",
     "text": [
      "Epoch [18/20], Training Loss: 2.0981, Validation Loss: 2.0810\n"
     ]
    },
    {
     "name": "stderr",
     "output_type": "stream",
     "text": [
      " 95%|████████████████▏| 19/20 [00:21<00:01,  1.04s/it]"
     ]
    },
    {
     "name": "stdout",
     "output_type": "stream",
     "text": [
      "Epoch [19/20], Training Loss: 2.0982, Validation Loss: 2.0927\n"
     ]
    },
    {
     "name": "stderr",
     "output_type": "stream",
     "text": [
      "100%|█████████████████| 20/20 [00:22<00:00,  1.11s/it]"
     ]
    },
    {
     "name": "stdout",
     "output_type": "stream",
     "text": [
      "Epoch [20/20], Training Loss: 2.0942, Validation Loss: 2.0655\n"
     ]
    },
    {
     "name": "stderr",
     "output_type": "stream",
     "text": [
      "\n"
     ]
    }
   ],
   "source": [
    "import torch.optim as optim\n",
    "from tqdm import tqdm\n",
    "\n",
    "# Hyperparameters\n",
    "num_epochs = 20\n",
    "learning_rate = 0.005\n",
    "\n",
    "# Loss function and optimizer\n",
    "cross_entropy = nn.CrossEntropyLoss()\n",
    "optimizer = optim.Adam(model.parameters(), lr=learning_rate)\n",
    "\n",
    "# Training loop\n",
    "for epoch in tqdm(range(num_epochs)):\n",
    "    model.train()\n",
    "    hidden = model.init_hidden()\n",
    "    training_loss = 0\n",
    "    for inputs, targets in dataloader:\n",
    "        optimizer.zero_grad()\n",
    "        outputs, hidden = model(inputs, hidden)\n",
    "        loss = cross_entropy(outputs.view(-1, vocab_size), targets.squeeze(0))\n",
    "        loss.backward()\n",
    "        optimizer.step()\n",
    "        training_loss = loss.item()\n",
    "        hidden = (hidden[0].detach(), hidden[1].detach())\n",
    "    \n",
    "    model.eval()\n",
    "    total_loss = 0\n",
    "    for inputs, targets in dataloader_eval:\n",
    "        hidden = model.init_hidden()\n",
    "\n",
    "        # forward pass\n",
    "        outputs, hidden = model(inputs, hidden)\n",
    "        loss = cross_entropy(outputs.view(-1, vocab_size), targets.squeeze(0))\n",
    "        total_loss += loss.item()\n",
    "\n",
    "    avg_loss_eval = total_loss / len(dataloader_eval)\n",
    "    print(f'Epoch [{epoch+1}/{num_epochs}], Training Loss: {avg_loss_eval:.4f}, Validation Loss: {training_loss:.4f}')\n"
   ]
  },
  {
   "cell_type": "markdown",
   "id": "38401488-32a7-42db-a309-9882e54be76d",
   "metadata": {},
   "source": [
    "If you are happy with the loss obtained, especially against the validation set, you can run the following block to save the model's weights."
   ]
  },
  {
   "cell_type": "code",
   "execution_count": 375,
   "id": "804dac35-6c30-4bae-866a-e18e885c0dcf",
   "metadata": {},
   "outputs": [],
   "source": [
    "# Save the best model you've trained so far\n",
    "torch.save(model.state_dict(), f'lstm_model-{locale}.pth')"
   ]
  },
  {
   "cell_type": "code",
   "execution_count": 377,
   "id": "a159d362-baa2-44d2-8565-4a1675b40945",
   "metadata": {},
   "outputs": [
    {
     "data": {
      "text/plain": [
       "<All keys matched successfully>"
      ]
     },
     "execution_count": 377,
     "metadata": {},
     "output_type": "execute_result"
    }
   ],
   "source": [
    "# generate words from the the last version of the model you saved\n",
    "model.load_state_dict(torch.load(f'lstm_model-{locale}.pth'))"
   ]
  },
  {
   "cell_type": "code",
   "execution_count": 398,
   "id": "c0c28f7d-0ff8-4749-8253-436b5870fe8c",
   "metadata": {},
   "outputs": [
    {
     "name": "stdout",
     "output_type": "stream",
     "text": [
      "bolding\n",
      "pentic\n",
      "deconting\n",
      "stand\n",
      "podite\n",
      "shagger\n",
      "pressicious\n",
      "shimper\n",
      "constallion\n",
      "tiner\n",
      "probite\n",
      "prover\n",
      "stranger\n",
      "inviness\n",
      "appologe\n",
      "therrapher\n",
      "stricking\n",
      "insector\n",
      "suppoding\n",
      "state\n",
      "pack\n",
      "splin\n",
      "stonophect\n",
      "carnour\n",
      "fing\n",
      "solling\n",
      "rescrap\n",
      "portan\n",
      "ance\n",
      "batter\n",
      "tender\n",
      "singer\n",
      "monel\n",
      "speriation\n",
      "bastter\n",
      "conconium\n",
      "prominate\n",
      "polricate\n",
      "suppricise\n",
      "pending\n",
      "faster\n",
      "screating\n",
      "conviture\n",
      "substinate\n",
      "cland\n",
      "consection\n",
      "perter\n",
      "rick\n",
      "sharth\n",
      "arricting\n",
      "content\n",
      "spead\n",
      "linger\n",
      "ching\n",
      "substression\n",
      "thepention\n",
      "skyhen\n",
      "reproten\n",
      "concommant\n",
      "deconting\n",
      "mone\n",
      "confulness\n",
      "consurate\n",
      "grange\n",
      "partan\n",
      "descombiness\n",
      "censor\n",
      "pack\n",
      "consorting\n",
      "contine\n",
      "scate\n",
      "consection\n",
      "constite\n",
      "conset\n",
      "ancention\n",
      "ascressing\n",
      "mange\n",
      "substony\n",
      "consperogen\n",
      "granter\n",
      "houndless\n",
      "corrate\n",
      "bushness\n",
      "resenting\n",
      "bater\n",
      "strance\n",
      "serper\n",
      "condround\n",
      "spressing\n",
      "shamp\n",
      "poleston\n",
      "intranist\n",
      "stand\n",
      "constiverate\n",
      "strate\n",
      "consection\n",
      "sasting\n",
      "part\n",
      "paronald\n",
      "melerous\n",
      "constant\n",
      "birect\n",
      "basting\n",
      "collous\n",
      "porter\n",
      "paction\n",
      "trinessing\n",
      "sabban\n",
      "carter\n",
      "forerate\n",
      "calloger\n",
      "blatter\n",
      "porminess\n",
      "ensolity\n",
      "conention\n",
      "monophene\n",
      "fine\n",
      "borset\n",
      "const\n"
     ]
    }
   ],
   "source": [
    "import torch\n",
    "import torch.nn.functional as F\n",
    "\n",
    "def generate_pseudoword(model, length=1000, temperature=0.4, top_k=None, top_p=None):\n",
    "    model.eval()\n",
    "    hidden = model.init_hidden(1)\n",
    "    start_seq = [0]\n",
    "    inputs = torch.tensor(start_seq).unsqueeze(0)  # Shape: (1, seq_len)\n",
    "    generated_seq = start_seq\n",
    "\n",
    "    with torch.no_grad():\n",
    "        for _ in range(length):\n",
    "            outputs, hidden = model(inputs, hidden)\n",
    "            # outputs shape: (1, seq_len, vocab_size)\n",
    "            # We need the last time step's output for the next prediction\n",
    "            last_output = outputs[:, -1, :]  # Shape: (1, vocab_size)\n",
    "\n",
    "            # Apply temperature scaling\n",
    "            last_output = last_output / temperature\n",
    "            probs = F.softmax(last_output, dim=-1).squeeze(0)  # Shape: (vocab_size)\n",
    "\n",
    "            # Ensure the probabilities are valid\n",
    "            if torch.isnan(probs).any() or torch.isinf(probs).any() or (probs < 0).any():\n",
    "                print(\"Invalid probabilities detected. Resetting to uniform distribution.\")\n",
    "                probs = torch.ones_like(probs) / probs.size(0)\n",
    "\n",
    "            # Apply top-k sampling\n",
    "            if top_k is not None:\n",
    "                top_k_probs, top_k_idx = probs.topk(top_k)\n",
    "                mask = torch.zeros_like(probs)\n",
    "                mask[top_k_idx] = 1\n",
    "                probs = probs * mask\n",
    "                probs = probs / probs.sum()\n",
    "\n",
    "            # Apply nucleus sampling (top-p sampling)\n",
    "            if top_p is not None:\n",
    "                sorted_probs, sorted_idx = probs.sort(descending=True)\n",
    "                cumulative_probs = torch.cumsum(sorted_probs, dim=-1)\n",
    "                nucleus = cumulative_probs <= top_p\n",
    "                mask = torch.zeros_like(probs)\n",
    "                mask[sorted_idx[:nucleus.sum()]] = 1\n",
    "                probs = probs * mask\n",
    "                probs = probs / probs.sum()\n",
    "\n",
    "            # Ensure the probabilities are valid after sampling\n",
    "            if torch.isnan(probs).any() or torch.isinf(probs).any() or (probs < 0).any():\n",
    "                print(\"Invalid probabilities detected after sampling. Resetting to uniform distribution.\")\n",
    "                probs = torch.ones_like(probs) / probs.size(0)\n",
    "\n",
    "            # Sample the next character\n",
    "            predicted_idx = torch.multinomial(probs, 1).item()\n",
    "            generated_seq.append(predicted_idx)\n",
    "            inputs = torch.tensor([[predicted_idx]])  # Shape: (1, 1)\n",
    "\n",
    "    return \"\".join([vocab[idx] for idx in generated_seq[1:]])\n",
    "\n",
    "# Example usage\n",
    "generated_pseudoword = generate_pseudoword(model)\n",
    "print(generated_pseudoword)\n"
   ]
  },
  {
   "cell_type": "code",
   "execution_count": null,
   "id": "1d158d4f-7f4c-45ec-a366-d62de752e275",
   "metadata": {},
   "outputs": [],
   "source": []
  }
 ],
 "metadata": {
  "kernelspec": {
   "display_name": "Python 3 (ipykernel)",
   "language": "python",
   "name": "python3"
  },
  "language_info": {
   "codemirror_mode": {
    "name": "ipython",
    "version": 3
   },
   "file_extension": ".py",
   "mimetype": "text/x-python",
   "name": "python",
   "nbconvert_exporter": "python",
   "pygments_lexer": "ipython3",
   "version": "3.12.8"
  }
 },
 "nbformat": 4,
 "nbformat_minor": 5
}
